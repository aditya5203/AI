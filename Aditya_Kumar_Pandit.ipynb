{
  "cells": [
    {
      "cell_type": "markdown",
      "metadata": {
        "id": "view-in-github",
        "colab_type": "text"
      },
      "source": [
        "<a href=\"https://colab.research.google.com/github/aditya5203/AI/blob/main/Aditya_Kumar_Pandit.ipynb\" target=\"_parent\"><img src=\"https://colab.research.google.com/assets/colab-badge.svg\" alt=\"Open In Colab\"/></a>"
      ]
    },
    {
      "cell_type": "code",
      "execution_count": 37,
      "metadata": {
        "colab": {
          "base_uri": "https://localhost:8080/"
        },
        "id": "slnN_oJp82Jq",
        "outputId": "4d9c6cfc-9f90-4410-a5d3-958684e88f75"
      },
      "outputs": [
        {
          "output_type": "stream",
          "name": "stdout",
          "text": [
            "Drive already mounted at /content/drive; to attempt to forcibly remount, call drive.mount(\"/content/drive\", force_remount=True).\n"
          ]
        }
      ],
      "source": [
        "from google.colab import drive\n",
        "drive.mount('/content/drive')"
      ]
    },
    {
      "cell_type": "markdown",
      "metadata": {
        "id": "n7aGIYwN9HFw"
      },
      "source": [
        "**1. Load the Dataset**"
      ]
    },
    {
      "cell_type": "code",
      "execution_count": 38,
      "metadata": {
        "colab": {
          "base_uri": "https://localhost:8080/",
          "height": 313
        },
        "id": "pCmW2aZ983PE",
        "outputId": "c0bccb40-433e-4292-f06d-c3d4563a6b1f"
      },
      "outputs": [
        {
          "output_type": "execute_result",
          "data": {
            "text/plain": [
              "  Disposition OffenderStatus Offender_Race Offender_Gender  Offender_Age  \\\n",
              "0      CLOSED       ARRESTED         BLACK            MALE          30.0   \n",
              "1      CLOSED       ARRESTED         BLACK            MALE          30.0   \n",
              "2      CLOSED       ARRESTED         BLACK            MALE          30.0   \n",
              "3      CLOSED       ARRESTED         BLACK            MALE          30.0   \n",
              "4      CLOSED       ARRESTED         BLACK            MALE          30.0   \n",
              "\n",
              "  PersonType Victim_Race Victim_Gender  Victim_Age Victim_Fatal_Status  \\\n",
              "0     VICTIM       BLACK        FEMALE        29.0           Non-fatal   \n",
              "1     VICTIM       BLACK        FEMALE        29.0           Non-fatal   \n",
              "2     VICTIM       BLACK        FEMALE        29.0           Non-fatal   \n",
              "3     VICTIM       BLACK        FEMALE        29.0           Non-fatal   \n",
              "4     VICTIM       BLACK        FEMALE        29.0           Non-fatal   \n",
              "\n",
              "           Report Type Category  \n",
              "0  Supplemental Report    Theft  \n",
              "1  Supplemental Report    Theft  \n",
              "2  Supplemental Report    Theft  \n",
              "3  Supplemental Report    Theft  \n",
              "4  Supplemental Report    Theft  "
            ],
            "text/html": [
              "\n",
              "  <div id=\"df-ad5773d3-afa9-4dc1-abf7-b5855f8324c6\" class=\"colab-df-container\">\n",
              "    <div>\n",
              "<style scoped>\n",
              "    .dataframe tbody tr th:only-of-type {\n",
              "        vertical-align: middle;\n",
              "    }\n",
              "\n",
              "    .dataframe tbody tr th {\n",
              "        vertical-align: top;\n",
              "    }\n",
              "\n",
              "    .dataframe thead th {\n",
              "        text-align: right;\n",
              "    }\n",
              "</style>\n",
              "<table border=\"1\" class=\"dataframe\">\n",
              "  <thead>\n",
              "    <tr style=\"text-align: right;\">\n",
              "      <th></th>\n",
              "      <th>Disposition</th>\n",
              "      <th>OffenderStatus</th>\n",
              "      <th>Offender_Race</th>\n",
              "      <th>Offender_Gender</th>\n",
              "      <th>Offender_Age</th>\n",
              "      <th>PersonType</th>\n",
              "      <th>Victim_Race</th>\n",
              "      <th>Victim_Gender</th>\n",
              "      <th>Victim_Age</th>\n",
              "      <th>Victim_Fatal_Status</th>\n",
              "      <th>Report Type</th>\n",
              "      <th>Category</th>\n",
              "    </tr>\n",
              "  </thead>\n",
              "  <tbody>\n",
              "    <tr>\n",
              "      <th>0</th>\n",
              "      <td>CLOSED</td>\n",
              "      <td>ARRESTED</td>\n",
              "      <td>BLACK</td>\n",
              "      <td>MALE</td>\n",
              "      <td>30.0</td>\n",
              "      <td>VICTIM</td>\n",
              "      <td>BLACK</td>\n",
              "      <td>FEMALE</td>\n",
              "      <td>29.0</td>\n",
              "      <td>Non-fatal</td>\n",
              "      <td>Supplemental Report</td>\n",
              "      <td>Theft</td>\n",
              "    </tr>\n",
              "    <tr>\n",
              "      <th>1</th>\n",
              "      <td>CLOSED</td>\n",
              "      <td>ARRESTED</td>\n",
              "      <td>BLACK</td>\n",
              "      <td>MALE</td>\n",
              "      <td>30.0</td>\n",
              "      <td>VICTIM</td>\n",
              "      <td>BLACK</td>\n",
              "      <td>FEMALE</td>\n",
              "      <td>29.0</td>\n",
              "      <td>Non-fatal</td>\n",
              "      <td>Supplemental Report</td>\n",
              "      <td>Theft</td>\n",
              "    </tr>\n",
              "    <tr>\n",
              "      <th>2</th>\n",
              "      <td>CLOSED</td>\n",
              "      <td>ARRESTED</td>\n",
              "      <td>BLACK</td>\n",
              "      <td>MALE</td>\n",
              "      <td>30.0</td>\n",
              "      <td>VICTIM</td>\n",
              "      <td>BLACK</td>\n",
              "      <td>FEMALE</td>\n",
              "      <td>29.0</td>\n",
              "      <td>Non-fatal</td>\n",
              "      <td>Supplemental Report</td>\n",
              "      <td>Theft</td>\n",
              "    </tr>\n",
              "    <tr>\n",
              "      <th>3</th>\n",
              "      <td>CLOSED</td>\n",
              "      <td>ARRESTED</td>\n",
              "      <td>BLACK</td>\n",
              "      <td>MALE</td>\n",
              "      <td>30.0</td>\n",
              "      <td>VICTIM</td>\n",
              "      <td>BLACK</td>\n",
              "      <td>FEMALE</td>\n",
              "      <td>29.0</td>\n",
              "      <td>Non-fatal</td>\n",
              "      <td>Supplemental Report</td>\n",
              "      <td>Theft</td>\n",
              "    </tr>\n",
              "    <tr>\n",
              "      <th>4</th>\n",
              "      <td>CLOSED</td>\n",
              "      <td>ARRESTED</td>\n",
              "      <td>BLACK</td>\n",
              "      <td>MALE</td>\n",
              "      <td>30.0</td>\n",
              "      <td>VICTIM</td>\n",
              "      <td>BLACK</td>\n",
              "      <td>FEMALE</td>\n",
              "      <td>29.0</td>\n",
              "      <td>Non-fatal</td>\n",
              "      <td>Supplemental Report</td>\n",
              "      <td>Theft</td>\n",
              "    </tr>\n",
              "  </tbody>\n",
              "</table>\n",
              "</div>\n",
              "    <div class=\"colab-df-buttons\">\n",
              "\n",
              "  <div class=\"colab-df-container\">\n",
              "    <button class=\"colab-df-convert\" onclick=\"convertToInteractive('df-ad5773d3-afa9-4dc1-abf7-b5855f8324c6')\"\n",
              "            title=\"Convert this dataframe to an interactive table.\"\n",
              "            style=\"display:none;\">\n",
              "\n",
              "  <svg xmlns=\"http://www.w3.org/2000/svg\" height=\"24px\" viewBox=\"0 -960 960 960\">\n",
              "    <path d=\"M120-120v-720h720v720H120Zm60-500h600v-160H180v160Zm220 220h160v-160H400v160Zm0 220h160v-160H400v160ZM180-400h160v-160H180v160Zm440 0h160v-160H620v160ZM180-180h160v-160H180v160Zm440 0h160v-160H620v160Z\"/>\n",
              "  </svg>\n",
              "    </button>\n",
              "\n",
              "  <style>\n",
              "    .colab-df-container {\n",
              "      display:flex;\n",
              "      gap: 12px;\n",
              "    }\n",
              "\n",
              "    .colab-df-convert {\n",
              "      background-color: #E8F0FE;\n",
              "      border: none;\n",
              "      border-radius: 50%;\n",
              "      cursor: pointer;\n",
              "      display: none;\n",
              "      fill: #1967D2;\n",
              "      height: 32px;\n",
              "      padding: 0 0 0 0;\n",
              "      width: 32px;\n",
              "    }\n",
              "\n",
              "    .colab-df-convert:hover {\n",
              "      background-color: #E2EBFA;\n",
              "      box-shadow: 0px 1px 2px rgba(60, 64, 67, 0.3), 0px 1px 3px 1px rgba(60, 64, 67, 0.15);\n",
              "      fill: #174EA6;\n",
              "    }\n",
              "\n",
              "    .colab-df-buttons div {\n",
              "      margin-bottom: 4px;\n",
              "    }\n",
              "\n",
              "    [theme=dark] .colab-df-convert {\n",
              "      background-color: #3B4455;\n",
              "      fill: #D2E3FC;\n",
              "    }\n",
              "\n",
              "    [theme=dark] .colab-df-convert:hover {\n",
              "      background-color: #434B5C;\n",
              "      box-shadow: 0px 1px 3px 1px rgba(0, 0, 0, 0.15);\n",
              "      filter: drop-shadow(0px 1px 2px rgba(0, 0, 0, 0.3));\n",
              "      fill: #FFFFFF;\n",
              "    }\n",
              "  </style>\n",
              "\n",
              "    <script>\n",
              "      const buttonEl =\n",
              "        document.querySelector('#df-ad5773d3-afa9-4dc1-abf7-b5855f8324c6 button.colab-df-convert');\n",
              "      buttonEl.style.display =\n",
              "        google.colab.kernel.accessAllowed ? 'block' : 'none';\n",
              "\n",
              "      async function convertToInteractive(key) {\n",
              "        const element = document.querySelector('#df-ad5773d3-afa9-4dc1-abf7-b5855f8324c6');\n",
              "        const dataTable =\n",
              "          await google.colab.kernel.invokeFunction('convertToInteractive',\n",
              "                                                    [key], {});\n",
              "        if (!dataTable) return;\n",
              "\n",
              "        const docLinkHtml = 'Like what you see? Visit the ' +\n",
              "          '<a target=\"_blank\" href=https://colab.research.google.com/notebooks/data_table.ipynb>data table notebook</a>'\n",
              "          + ' to learn more about interactive tables.';\n",
              "        element.innerHTML = '';\n",
              "        dataTable['output_type'] = 'display_data';\n",
              "        await google.colab.output.renderOutput(dataTable, element);\n",
              "        const docLink = document.createElement('div');\n",
              "        docLink.innerHTML = docLinkHtml;\n",
              "        element.appendChild(docLink);\n",
              "      }\n",
              "    </script>\n",
              "  </div>\n",
              "\n",
              "\n",
              "<div id=\"df-fe8d005c-19de-43e3-b6e3-41fc4e7ad3d3\">\n",
              "  <button class=\"colab-df-quickchart\" onclick=\"quickchart('df-fe8d005c-19de-43e3-b6e3-41fc4e7ad3d3')\"\n",
              "            title=\"Suggest charts\"\n",
              "            style=\"display:none;\">\n",
              "\n",
              "<svg xmlns=\"http://www.w3.org/2000/svg\" height=\"24px\"viewBox=\"0 0 24 24\"\n",
              "     width=\"24px\">\n",
              "    <g>\n",
              "        <path d=\"M19 3H5c-1.1 0-2 .9-2 2v14c0 1.1.9 2 2 2h14c1.1 0 2-.9 2-2V5c0-1.1-.9-2-2-2zM9 17H7v-7h2v7zm4 0h-2V7h2v10zm4 0h-2v-4h2v4z\"/>\n",
              "    </g>\n",
              "</svg>\n",
              "  </button>\n",
              "\n",
              "<style>\n",
              "  .colab-df-quickchart {\n",
              "      --bg-color: #E8F0FE;\n",
              "      --fill-color: #1967D2;\n",
              "      --hover-bg-color: #E2EBFA;\n",
              "      --hover-fill-color: #174EA6;\n",
              "      --disabled-fill-color: #AAA;\n",
              "      --disabled-bg-color: #DDD;\n",
              "  }\n",
              "\n",
              "  [theme=dark] .colab-df-quickchart {\n",
              "      --bg-color: #3B4455;\n",
              "      --fill-color: #D2E3FC;\n",
              "      --hover-bg-color: #434B5C;\n",
              "      --hover-fill-color: #FFFFFF;\n",
              "      --disabled-bg-color: #3B4455;\n",
              "      --disabled-fill-color: #666;\n",
              "  }\n",
              "\n",
              "  .colab-df-quickchart {\n",
              "    background-color: var(--bg-color);\n",
              "    border: none;\n",
              "    border-radius: 50%;\n",
              "    cursor: pointer;\n",
              "    display: none;\n",
              "    fill: var(--fill-color);\n",
              "    height: 32px;\n",
              "    padding: 0;\n",
              "    width: 32px;\n",
              "  }\n",
              "\n",
              "  .colab-df-quickchart:hover {\n",
              "    background-color: var(--hover-bg-color);\n",
              "    box-shadow: 0 1px 2px rgba(60, 64, 67, 0.3), 0 1px 3px 1px rgba(60, 64, 67, 0.15);\n",
              "    fill: var(--button-hover-fill-color);\n",
              "  }\n",
              "\n",
              "  .colab-df-quickchart-complete:disabled,\n",
              "  .colab-df-quickchart-complete:disabled:hover {\n",
              "    background-color: var(--disabled-bg-color);\n",
              "    fill: var(--disabled-fill-color);\n",
              "    box-shadow: none;\n",
              "  }\n",
              "\n",
              "  .colab-df-spinner {\n",
              "    border: 2px solid var(--fill-color);\n",
              "    border-color: transparent;\n",
              "    border-bottom-color: var(--fill-color);\n",
              "    animation:\n",
              "      spin 1s steps(1) infinite;\n",
              "  }\n",
              "\n",
              "  @keyframes spin {\n",
              "    0% {\n",
              "      border-color: transparent;\n",
              "      border-bottom-color: var(--fill-color);\n",
              "      border-left-color: var(--fill-color);\n",
              "    }\n",
              "    20% {\n",
              "      border-color: transparent;\n",
              "      border-left-color: var(--fill-color);\n",
              "      border-top-color: var(--fill-color);\n",
              "    }\n",
              "    30% {\n",
              "      border-color: transparent;\n",
              "      border-left-color: var(--fill-color);\n",
              "      border-top-color: var(--fill-color);\n",
              "      border-right-color: var(--fill-color);\n",
              "    }\n",
              "    40% {\n",
              "      border-color: transparent;\n",
              "      border-right-color: var(--fill-color);\n",
              "      border-top-color: var(--fill-color);\n",
              "    }\n",
              "    60% {\n",
              "      border-color: transparent;\n",
              "      border-right-color: var(--fill-color);\n",
              "    }\n",
              "    80% {\n",
              "      border-color: transparent;\n",
              "      border-right-color: var(--fill-color);\n",
              "      border-bottom-color: var(--fill-color);\n",
              "    }\n",
              "    90% {\n",
              "      border-color: transparent;\n",
              "      border-bottom-color: var(--fill-color);\n",
              "    }\n",
              "  }\n",
              "</style>\n",
              "\n",
              "  <script>\n",
              "    async function quickchart(key) {\n",
              "      const quickchartButtonEl =\n",
              "        document.querySelector('#' + key + ' button');\n",
              "      quickchartButtonEl.disabled = true;  // To prevent multiple clicks.\n",
              "      quickchartButtonEl.classList.add('colab-df-spinner');\n",
              "      try {\n",
              "        const charts = await google.colab.kernel.invokeFunction(\n",
              "            'suggestCharts', [key], {});\n",
              "      } catch (error) {\n",
              "        console.error('Error during call to suggestCharts:', error);\n",
              "      }\n",
              "      quickchartButtonEl.classList.remove('colab-df-spinner');\n",
              "      quickchartButtonEl.classList.add('colab-df-quickchart-complete');\n",
              "    }\n",
              "    (() => {\n",
              "      let quickchartButtonEl =\n",
              "        document.querySelector('#df-fe8d005c-19de-43e3-b6e3-41fc4e7ad3d3 button');\n",
              "      quickchartButtonEl.style.display =\n",
              "        google.colab.kernel.accessAllowed ? 'block' : 'none';\n",
              "    })();\n",
              "  </script>\n",
              "</div>\n",
              "\n",
              "    </div>\n",
              "  </div>\n"
            ],
            "application/vnd.google.colaboratory.intrinsic+json": {
              "type": "dataframe",
              "variable_name": "df",
              "summary": "{\n  \"name\": \"df\",\n  \"rows\": 6638,\n  \"fields\": [\n    {\n      \"column\": \"Disposition\",\n      \"properties\": {\n        \"dtype\": \"category\",\n        \"num_unique_values\": 2,\n        \"samples\": [\n          \"OPEN\",\n          \"CLOSED\"\n        ],\n        \"semantic_type\": \"\",\n        \"description\": \"\"\n      }\n    },\n    {\n      \"column\": \"OffenderStatus\",\n      \"properties\": {\n        \"dtype\": \"category\",\n        \"num_unique_values\": 1,\n        \"samples\": [\n          \"ARRESTED\"\n        ],\n        \"semantic_type\": \"\",\n        \"description\": \"\"\n      }\n    },\n    {\n      \"column\": \"Offender_Race\",\n      \"properties\": {\n        \"dtype\": \"category\",\n        \"num_unique_values\": 6,\n        \"samples\": [\n          \"BLACK\"\n        ],\n        \"semantic_type\": \"\",\n        \"description\": \"\"\n      }\n    },\n    {\n      \"column\": \"Offender_Gender\",\n      \"properties\": {\n        \"dtype\": \"category\",\n        \"num_unique_values\": 2,\n        \"samples\": [\n          \"FEMALE\"\n        ],\n        \"semantic_type\": \"\",\n        \"description\": \"\"\n      }\n    },\n    {\n      \"column\": \"Offender_Age\",\n      \"properties\": {\n        \"dtype\": \"number\",\n        \"std\": 12.797407469322737,\n        \"min\": 11.0,\n        \"max\": 83.0,\n        \"num_unique_values\": 70,\n        \"samples\": [\n          26.0\n        ],\n        \"semantic_type\": \"\",\n        \"description\": \"\"\n      }\n    },\n    {\n      \"column\": \"PersonType\",\n      \"properties\": {\n        \"dtype\": \"category\",\n        \"num_unique_values\": 3,\n        \"samples\": [\n          \"VICTIM\"\n        ],\n        \"semantic_type\": \"\",\n        \"description\": \"\"\n      }\n    },\n    {\n      \"column\": \"Victim_Race\",\n      \"properties\": {\n        \"dtype\": \"category\",\n        \"num_unique_values\": 6,\n        \"samples\": [\n          \"BLACK\"\n        ],\n        \"semantic_type\": \"\",\n        \"description\": \"\"\n      }\n    },\n    {\n      \"column\": \"Victim_Gender\",\n      \"properties\": {\n        \"dtype\": \"category\",\n        \"num_unique_values\": 3,\n        \"samples\": [\n          \"FEMALE\"\n        ],\n        \"semantic_type\": \"\",\n        \"description\": \"\"\n      }\n    },\n    {\n      \"column\": \"Victim_Age\",\n      \"properties\": {\n        \"dtype\": \"number\",\n        \"std\": 15.297201782744024,\n        \"min\": 0.0,\n        \"max\": 124.0,\n        \"num_unique_values\": 91,\n        \"samples\": [\n          72.0\n        ],\n        \"semantic_type\": \"\",\n        \"description\": \"\"\n      }\n    },\n    {\n      \"column\": \"Victim_Fatal_Status\",\n      \"properties\": {\n        \"dtype\": \"category\",\n        \"num_unique_values\": 2,\n        \"samples\": [\n          \"Fatal\"\n        ],\n        \"semantic_type\": \"\",\n        \"description\": \"\"\n      }\n    },\n    {\n      \"column\": \"Report Type\",\n      \"properties\": {\n        \"dtype\": \"category\",\n        \"num_unique_values\": 2,\n        \"samples\": [\n          \"Incident Report\"\n        ],\n        \"semantic_type\": \"\",\n        \"description\": \"\"\n      }\n    },\n    {\n      \"column\": \"Category\",\n      \"properties\": {\n        \"dtype\": \"category\",\n        \"num_unique_values\": 6,\n        \"samples\": [\n          \"Theft\"\n        ],\n        \"semantic_type\": \"\",\n        \"description\": \"\"\n      }\n    }\n  ]\n}"
            }
          },
          "metadata": {},
          "execution_count": 38
        }
      ],
      "source": [
        "import pandas as pd\n",
        "\n",
        "# Load the dataset\n",
        "df = pd.read_csv(\"/content/drive/MyDrive/3rd sem/crime_data.csv\")\n",
        "\n",
        "# Display the first few rows\n",
        "df.head()\n"
      ]
    },
    {
      "cell_type": "markdown",
      "metadata": {
        "id": "Sxdd_OxV90dZ"
      },
      "source": [
        "**Step 2: Dataset Information and Basic Exploration**"
      ]
    },
    {
      "cell_type": "code",
      "execution_count": 39,
      "metadata": {
        "colab": {
          "base_uri": "https://localhost:8080/",
          "height": 807
        },
        "id": "Dto6BI0r9NKV",
        "outputId": "88fd9f87-6f54-4801-91d9-688dc141c58a"
      },
      "outputs": [
        {
          "output_type": "stream",
          "name": "stdout",
          "text": [
            "<class 'pandas.core.frame.DataFrame'>\n",
            "RangeIndex: 6638 entries, 0 to 6637\n",
            "Data columns (total 12 columns):\n",
            " #   Column               Non-Null Count  Dtype  \n",
            "---  ------               --------------  -----  \n",
            " 0   Disposition          6638 non-null   object \n",
            " 1   OffenderStatus       6638 non-null   object \n",
            " 2   Offender_Race        6638 non-null   object \n",
            " 3   Offender_Gender      6638 non-null   object \n",
            " 4   Offender_Age         6638 non-null   float64\n",
            " 5   PersonType           6638 non-null   object \n",
            " 6   Victim_Race          6638 non-null   object \n",
            " 7   Victim_Gender        6638 non-null   object \n",
            " 8   Victim_Age           6638 non-null   float64\n",
            " 9   Victim_Fatal_Status  6638 non-null   object \n",
            " 10  Report Type          6638 non-null   object \n",
            " 11  Category             6638 non-null   object \n",
            "dtypes: float64(2), object(10)\n",
            "memory usage: 622.4+ KB\n",
            "--------\n"
          ]
        },
        {
          "output_type": "execute_result",
          "data": {
            "text/plain": [
              "Disposition            0\n",
              "OffenderStatus         0\n",
              "Offender_Race          0\n",
              "Offender_Gender        0\n",
              "Offender_Age           0\n",
              "PersonType             0\n",
              "Victim_Race            0\n",
              "Victim_Gender          0\n",
              "Victim_Age             0\n",
              "Victim_Fatal_Status    0\n",
              "Report Type            0\n",
              "Category               0\n",
              "dtype: int64"
            ],
            "text/html": [
              "<div>\n",
              "<style scoped>\n",
              "    .dataframe tbody tr th:only-of-type {\n",
              "        vertical-align: middle;\n",
              "    }\n",
              "\n",
              "    .dataframe tbody tr th {\n",
              "        vertical-align: top;\n",
              "    }\n",
              "\n",
              "    .dataframe thead th {\n",
              "        text-align: right;\n",
              "    }\n",
              "</style>\n",
              "<table border=\"1\" class=\"dataframe\">\n",
              "  <thead>\n",
              "    <tr style=\"text-align: right;\">\n",
              "      <th></th>\n",
              "      <th>0</th>\n",
              "    </tr>\n",
              "  </thead>\n",
              "  <tbody>\n",
              "    <tr>\n",
              "      <th>Disposition</th>\n",
              "      <td>0</td>\n",
              "    </tr>\n",
              "    <tr>\n",
              "      <th>OffenderStatus</th>\n",
              "      <td>0</td>\n",
              "    </tr>\n",
              "    <tr>\n",
              "      <th>Offender_Race</th>\n",
              "      <td>0</td>\n",
              "    </tr>\n",
              "    <tr>\n",
              "      <th>Offender_Gender</th>\n",
              "      <td>0</td>\n",
              "    </tr>\n",
              "    <tr>\n",
              "      <th>Offender_Age</th>\n",
              "      <td>0</td>\n",
              "    </tr>\n",
              "    <tr>\n",
              "      <th>PersonType</th>\n",
              "      <td>0</td>\n",
              "    </tr>\n",
              "    <tr>\n",
              "      <th>Victim_Race</th>\n",
              "      <td>0</td>\n",
              "    </tr>\n",
              "    <tr>\n",
              "      <th>Victim_Gender</th>\n",
              "      <td>0</td>\n",
              "    </tr>\n",
              "    <tr>\n",
              "      <th>Victim_Age</th>\n",
              "      <td>0</td>\n",
              "    </tr>\n",
              "    <tr>\n",
              "      <th>Victim_Fatal_Status</th>\n",
              "      <td>0</td>\n",
              "    </tr>\n",
              "    <tr>\n",
              "      <th>Report Type</th>\n",
              "      <td>0</td>\n",
              "    </tr>\n",
              "    <tr>\n",
              "      <th>Category</th>\n",
              "      <td>0</td>\n",
              "    </tr>\n",
              "  </tbody>\n",
              "</table>\n",
              "</div><br><label><b>dtype:</b> int64</label>"
            ]
          },
          "metadata": {},
          "execution_count": 39
        }
      ],
      "source": [
        "# Display dataset information\n",
        "df.info()\n",
        "print(\"--------\")\n",
        "# Check for missing values in the dataset\n",
        "df.isnull().sum()"
      ]
    },
    {
      "cell_type": "code",
      "execution_count": 40,
      "metadata": {
        "colab": {
          "base_uri": "https://localhost:8080/",
          "height": 300
        },
        "id": "syrtzGPE9984",
        "outputId": "20247714-beee-41af-d9f0-9d85b18adaae"
      },
      "outputs": [
        {
          "output_type": "execute_result",
          "data": {
            "text/plain": [
              "       Offender_Age   Victim_Age\n",
              "count   6638.000000  6638.000000\n",
              "mean      34.634378    38.590539\n",
              "std       12.797407    15.297202\n",
              "min       11.000000     0.000000\n",
              "25%       25.000000    27.000000\n",
              "50%       33.000000    36.000000\n",
              "75%       42.000000    48.000000\n",
              "max       83.000000   124.000000"
            ],
            "text/html": [
              "\n",
              "  <div id=\"df-0a3a77ac-cbf2-47ee-88cd-ab880a6a61a4\" class=\"colab-df-container\">\n",
              "    <div>\n",
              "<style scoped>\n",
              "    .dataframe tbody tr th:only-of-type {\n",
              "        vertical-align: middle;\n",
              "    }\n",
              "\n",
              "    .dataframe tbody tr th {\n",
              "        vertical-align: top;\n",
              "    }\n",
              "\n",
              "    .dataframe thead th {\n",
              "        text-align: right;\n",
              "    }\n",
              "</style>\n",
              "<table border=\"1\" class=\"dataframe\">\n",
              "  <thead>\n",
              "    <tr style=\"text-align: right;\">\n",
              "      <th></th>\n",
              "      <th>Offender_Age</th>\n",
              "      <th>Victim_Age</th>\n",
              "    </tr>\n",
              "  </thead>\n",
              "  <tbody>\n",
              "    <tr>\n",
              "      <th>count</th>\n",
              "      <td>6638.000000</td>\n",
              "      <td>6638.000000</td>\n",
              "    </tr>\n",
              "    <tr>\n",
              "      <th>mean</th>\n",
              "      <td>34.634378</td>\n",
              "      <td>38.590539</td>\n",
              "    </tr>\n",
              "    <tr>\n",
              "      <th>std</th>\n",
              "      <td>12.797407</td>\n",
              "      <td>15.297202</td>\n",
              "    </tr>\n",
              "    <tr>\n",
              "      <th>min</th>\n",
              "      <td>11.000000</td>\n",
              "      <td>0.000000</td>\n",
              "    </tr>\n",
              "    <tr>\n",
              "      <th>25%</th>\n",
              "      <td>25.000000</td>\n",
              "      <td>27.000000</td>\n",
              "    </tr>\n",
              "    <tr>\n",
              "      <th>50%</th>\n",
              "      <td>33.000000</td>\n",
              "      <td>36.000000</td>\n",
              "    </tr>\n",
              "    <tr>\n",
              "      <th>75%</th>\n",
              "      <td>42.000000</td>\n",
              "      <td>48.000000</td>\n",
              "    </tr>\n",
              "    <tr>\n",
              "      <th>max</th>\n",
              "      <td>83.000000</td>\n",
              "      <td>124.000000</td>\n",
              "    </tr>\n",
              "  </tbody>\n",
              "</table>\n",
              "</div>\n",
              "    <div class=\"colab-df-buttons\">\n",
              "\n",
              "  <div class=\"colab-df-container\">\n",
              "    <button class=\"colab-df-convert\" onclick=\"convertToInteractive('df-0a3a77ac-cbf2-47ee-88cd-ab880a6a61a4')\"\n",
              "            title=\"Convert this dataframe to an interactive table.\"\n",
              "            style=\"display:none;\">\n",
              "\n",
              "  <svg xmlns=\"http://www.w3.org/2000/svg\" height=\"24px\" viewBox=\"0 -960 960 960\">\n",
              "    <path d=\"M120-120v-720h720v720H120Zm60-500h600v-160H180v160Zm220 220h160v-160H400v160Zm0 220h160v-160H400v160ZM180-400h160v-160H180v160Zm440 0h160v-160H620v160ZM180-180h160v-160H180v160Zm440 0h160v-160H620v160Z\"/>\n",
              "  </svg>\n",
              "    </button>\n",
              "\n",
              "  <style>\n",
              "    .colab-df-container {\n",
              "      display:flex;\n",
              "      gap: 12px;\n",
              "    }\n",
              "\n",
              "    .colab-df-convert {\n",
              "      background-color: #E8F0FE;\n",
              "      border: none;\n",
              "      border-radius: 50%;\n",
              "      cursor: pointer;\n",
              "      display: none;\n",
              "      fill: #1967D2;\n",
              "      height: 32px;\n",
              "      padding: 0 0 0 0;\n",
              "      width: 32px;\n",
              "    }\n",
              "\n",
              "    .colab-df-convert:hover {\n",
              "      background-color: #E2EBFA;\n",
              "      box-shadow: 0px 1px 2px rgba(60, 64, 67, 0.3), 0px 1px 3px 1px rgba(60, 64, 67, 0.15);\n",
              "      fill: #174EA6;\n",
              "    }\n",
              "\n",
              "    .colab-df-buttons div {\n",
              "      margin-bottom: 4px;\n",
              "    }\n",
              "\n",
              "    [theme=dark] .colab-df-convert {\n",
              "      background-color: #3B4455;\n",
              "      fill: #D2E3FC;\n",
              "    }\n",
              "\n",
              "    [theme=dark] .colab-df-convert:hover {\n",
              "      background-color: #434B5C;\n",
              "      box-shadow: 0px 1px 3px 1px rgba(0, 0, 0, 0.15);\n",
              "      filter: drop-shadow(0px 1px 2px rgba(0, 0, 0, 0.3));\n",
              "      fill: #FFFFFF;\n",
              "    }\n",
              "  </style>\n",
              "\n",
              "    <script>\n",
              "      const buttonEl =\n",
              "        document.querySelector('#df-0a3a77ac-cbf2-47ee-88cd-ab880a6a61a4 button.colab-df-convert');\n",
              "      buttonEl.style.display =\n",
              "        google.colab.kernel.accessAllowed ? 'block' : 'none';\n",
              "\n",
              "      async function convertToInteractive(key) {\n",
              "        const element = document.querySelector('#df-0a3a77ac-cbf2-47ee-88cd-ab880a6a61a4');\n",
              "        const dataTable =\n",
              "          await google.colab.kernel.invokeFunction('convertToInteractive',\n",
              "                                                    [key], {});\n",
              "        if (!dataTable) return;\n",
              "\n",
              "        const docLinkHtml = 'Like what you see? Visit the ' +\n",
              "          '<a target=\"_blank\" href=https://colab.research.google.com/notebooks/data_table.ipynb>data table notebook</a>'\n",
              "          + ' to learn more about interactive tables.';\n",
              "        element.innerHTML = '';\n",
              "        dataTable['output_type'] = 'display_data';\n",
              "        await google.colab.output.renderOutput(dataTable, element);\n",
              "        const docLink = document.createElement('div');\n",
              "        docLink.innerHTML = docLinkHtml;\n",
              "        element.appendChild(docLink);\n",
              "      }\n",
              "    </script>\n",
              "  </div>\n",
              "\n",
              "\n",
              "<div id=\"df-2800585b-417c-4182-abd8-113169fec65c\">\n",
              "  <button class=\"colab-df-quickchart\" onclick=\"quickchart('df-2800585b-417c-4182-abd8-113169fec65c')\"\n",
              "            title=\"Suggest charts\"\n",
              "            style=\"display:none;\">\n",
              "\n",
              "<svg xmlns=\"http://www.w3.org/2000/svg\" height=\"24px\"viewBox=\"0 0 24 24\"\n",
              "     width=\"24px\">\n",
              "    <g>\n",
              "        <path d=\"M19 3H5c-1.1 0-2 .9-2 2v14c0 1.1.9 2 2 2h14c1.1 0 2-.9 2-2V5c0-1.1-.9-2-2-2zM9 17H7v-7h2v7zm4 0h-2V7h2v10zm4 0h-2v-4h2v4z\"/>\n",
              "    </g>\n",
              "</svg>\n",
              "  </button>\n",
              "\n",
              "<style>\n",
              "  .colab-df-quickchart {\n",
              "      --bg-color: #E8F0FE;\n",
              "      --fill-color: #1967D2;\n",
              "      --hover-bg-color: #E2EBFA;\n",
              "      --hover-fill-color: #174EA6;\n",
              "      --disabled-fill-color: #AAA;\n",
              "      --disabled-bg-color: #DDD;\n",
              "  }\n",
              "\n",
              "  [theme=dark] .colab-df-quickchart {\n",
              "      --bg-color: #3B4455;\n",
              "      --fill-color: #D2E3FC;\n",
              "      --hover-bg-color: #434B5C;\n",
              "      --hover-fill-color: #FFFFFF;\n",
              "      --disabled-bg-color: #3B4455;\n",
              "      --disabled-fill-color: #666;\n",
              "  }\n",
              "\n",
              "  .colab-df-quickchart {\n",
              "    background-color: var(--bg-color);\n",
              "    border: none;\n",
              "    border-radius: 50%;\n",
              "    cursor: pointer;\n",
              "    display: none;\n",
              "    fill: var(--fill-color);\n",
              "    height: 32px;\n",
              "    padding: 0;\n",
              "    width: 32px;\n",
              "  }\n",
              "\n",
              "  .colab-df-quickchart:hover {\n",
              "    background-color: var(--hover-bg-color);\n",
              "    box-shadow: 0 1px 2px rgba(60, 64, 67, 0.3), 0 1px 3px 1px rgba(60, 64, 67, 0.15);\n",
              "    fill: var(--button-hover-fill-color);\n",
              "  }\n",
              "\n",
              "  .colab-df-quickchart-complete:disabled,\n",
              "  .colab-df-quickchart-complete:disabled:hover {\n",
              "    background-color: var(--disabled-bg-color);\n",
              "    fill: var(--disabled-fill-color);\n",
              "    box-shadow: none;\n",
              "  }\n",
              "\n",
              "  .colab-df-spinner {\n",
              "    border: 2px solid var(--fill-color);\n",
              "    border-color: transparent;\n",
              "    border-bottom-color: var(--fill-color);\n",
              "    animation:\n",
              "      spin 1s steps(1) infinite;\n",
              "  }\n",
              "\n",
              "  @keyframes spin {\n",
              "    0% {\n",
              "      border-color: transparent;\n",
              "      border-bottom-color: var(--fill-color);\n",
              "      border-left-color: var(--fill-color);\n",
              "    }\n",
              "    20% {\n",
              "      border-color: transparent;\n",
              "      border-left-color: var(--fill-color);\n",
              "      border-top-color: var(--fill-color);\n",
              "    }\n",
              "    30% {\n",
              "      border-color: transparent;\n",
              "      border-left-color: var(--fill-color);\n",
              "      border-top-color: var(--fill-color);\n",
              "      border-right-color: var(--fill-color);\n",
              "    }\n",
              "    40% {\n",
              "      border-color: transparent;\n",
              "      border-right-color: var(--fill-color);\n",
              "      border-top-color: var(--fill-color);\n",
              "    }\n",
              "    60% {\n",
              "      border-color: transparent;\n",
              "      border-right-color: var(--fill-color);\n",
              "    }\n",
              "    80% {\n",
              "      border-color: transparent;\n",
              "      border-right-color: var(--fill-color);\n",
              "      border-bottom-color: var(--fill-color);\n",
              "    }\n",
              "    90% {\n",
              "      border-color: transparent;\n",
              "      border-bottom-color: var(--fill-color);\n",
              "    }\n",
              "  }\n",
              "</style>\n",
              "\n",
              "  <script>\n",
              "    async function quickchart(key) {\n",
              "      const quickchartButtonEl =\n",
              "        document.querySelector('#' + key + ' button');\n",
              "      quickchartButtonEl.disabled = true;  // To prevent multiple clicks.\n",
              "      quickchartButtonEl.classList.add('colab-df-spinner');\n",
              "      try {\n",
              "        const charts = await google.colab.kernel.invokeFunction(\n",
              "            'suggestCharts', [key], {});\n",
              "      } catch (error) {\n",
              "        console.error('Error during call to suggestCharts:', error);\n",
              "      }\n",
              "      quickchartButtonEl.classList.remove('colab-df-spinner');\n",
              "      quickchartButtonEl.classList.add('colab-df-quickchart-complete');\n",
              "    }\n",
              "    (() => {\n",
              "      let quickchartButtonEl =\n",
              "        document.querySelector('#df-2800585b-417c-4182-abd8-113169fec65c button');\n",
              "      quickchartButtonEl.style.display =\n",
              "        google.colab.kernel.accessAllowed ? 'block' : 'none';\n",
              "    })();\n",
              "  </script>\n",
              "</div>\n",
              "\n",
              "    </div>\n",
              "  </div>\n"
            ],
            "application/vnd.google.colaboratory.intrinsic+json": {
              "type": "dataframe",
              "summary": "{\n  \"name\": \"df\",\n  \"rows\": 8,\n  \"fields\": [\n    {\n      \"column\": \"Offender_Age\",\n      \"properties\": {\n        \"dtype\": \"number\",\n        \"std\": 2334.801080627675,\n        \"min\": 11.0,\n        \"max\": 6638.0,\n        \"num_unique_values\": 8,\n        \"samples\": [\n          34.63437782464598,\n          33.0,\n          6638.0\n        ],\n        \"semantic_type\": \"\",\n        \"description\": \"\"\n      }\n    },\n    {\n      \"column\": \"Victim_Age\",\n      \"properties\": {\n        \"dtype\": \"number\",\n        \"std\": 2332.5874814977155,\n        \"min\": 0.0,\n        \"max\": 6638.0,\n        \"num_unique_values\": 8,\n        \"samples\": [\n          38.59053931907201,\n          36.0,\n          6638.0\n        ],\n        \"semantic_type\": \"\",\n        \"description\": \"\"\n      }\n    }\n  ]\n}"
            }
          },
          "metadata": {},
          "execution_count": 40
        }
      ],
      "source": [
        "# Display summary statistics for numerical features\n",
        "df.describe()\n"
      ]
    },
    {
      "cell_type": "markdown",
      "metadata": {
        "id": "_lErOCUW-enS"
      },
      "source": [
        "**Step 3 - Data Visualization**"
      ]
    },
    {
      "cell_type": "code",
      "execution_count": 41,
      "metadata": {
        "colab": {
          "base_uri": "https://localhost:8080/",
          "height": 487
        },
        "id": "0zaJJuEB-Azj",
        "outputId": "914453cc-25d3-4687-900b-4c43ba11c617"
      },
      "outputs": [
        {
          "output_type": "display_data",
          "data": {
            "text/plain": [
              "<Figure size 800x500 with 1 Axes>"
            ],
            "image/png": "[encoded data removed]"
          },
          "metadata": {}
        }
      ],
      "source": [
        "import matplotlib.pyplot as plt\n",
        "\n",
        "# Plot histogram for Offender Age\n",
        "plt.figure(figsize=(8,5))\n",
        "df[\"Offender_Age\"].hist(bins=20, edgecolor=\"black\")\n",
        "plt.xlabel(\"Offender Age\")\n",
        "plt.ylabel(\"Count\")\n",
        "plt.title(\"Distribution of Offender Age\")\n",
        "plt.show()\n"
      ]
    },
    {
      "cell_type": "markdown",
      "metadata": {
        "id": "0skkykMT-57d"
      },
      "source": [
        "\n",
        "The Offender Age Distribution shows that most offenders fall between 20 to 40 years old. The distribution is slightly right-skewed, meaning there are fewer offenders in the older age groups. Additionally, very few offenders are younger than 15 or older than 70.\n",
        "\n"
      ]
    },
    {
      "cell_type": "code",
      "execution_count": 42,
      "metadata": {
        "colab": {
          "base_uri": "https://localhost:8080/",
          "height": 487
        },
        "id": "uIzI77fi-jx_",
        "outputId": "5745a100-3521-488b-a2c2-26d1e250a72f"
      },
      "outputs": [
        {
          "output_type": "display_data",
          "data": {
            "text/plain": [
              "<Figure size 800x500 with 1 Axes>"
            ],
            "image/png": "[encoded data removed]"
          },
          "metadata": {}
        }
      ],
      "source": [
        "# Plot histogram for Victim Age\n",
        "plt.figure(figsize=(8,5))\n",
        "df[\"Victim_Age\"].hist(bins=20, edgecolor=\"black\")\n",
        "plt.xlabel(\"Victim Age\")\n",
        "plt.ylabel(\"Count\")\n",
        "plt.title(\"Distribution of Victim Age\")\n",
        "plt.show()\n"
      ]
    },
    {
      "cell_type": "markdown",
      "metadata": {
        "id": "Cz_J2dRa-9HG"
      },
      "source": [
        "For the Victim Age Distribution, most victims are between 20 to 50 years old. However, there are some extreme values, such as victims aged over 100 years, which may be outliers. The overall distribution appears relatively normal but slightly right-skewed."
      ]
    },
    {
      "cell_type": "markdown",
      "metadata": {
        "id": "I92WTqn6-_tf"
      },
      "source": [
        "***Correlation Analysis***"
      ]
    },
    {
      "cell_type": "code",
      "execution_count": 43,
      "metadata": {
        "colab": {
          "base_uri": "https://localhost:8080/",
          "height": 112
        },
        "id": "Qk06db8e_Bsd",
        "outputId": "3381795c-4f06-4661-c7dc-2ccf502f3a6c"
      },
      "outputs": [
        {
          "output_type": "execute_result",
          "data": {
            "text/plain": [
              "              Offender_Age  Victim_Age\n",
              "Offender_Age      1.000000    0.283464\n",
              "Victim_Age        0.283464    1.000000"
            ],
            "text/html": [
              "\n",
              "  <div id=\"df-08e07704-d648-4711-a325-d66da44c779f\" class=\"colab-df-container\">\n",
              "    <div>\n",
              "<style scoped>\n",
              "    .dataframe tbody tr th:only-of-type {\n",
              "        vertical-align: middle;\n",
              "    }\n",
              "\n",
              "    .dataframe tbody tr th {\n",
              "        vertical-align: top;\n",
              "    }\n",
              "\n",
              "    .dataframe thead th {\n",
              "        text-align: right;\n",
              "    }\n",
              "</style>\n",
              "<table border=\"1\" class=\"dataframe\">\n",
              "  <thead>\n",
              "    <tr style=\"text-align: right;\">\n",
              "      <th></th>\n",
              "      <th>Offender_Age</th>\n",
              "      <th>Victim_Age</th>\n",
              "    </tr>\n",
              "  </thead>\n",
              "  <tbody>\n",
              "    <tr>\n",
              "      <th>Offender_Age</th>\n",
              "      <td>1.000000</td>\n",
              "      <td>0.283464</td>\n",
              "    </tr>\n",
              "    <tr>\n",
              "      <th>Victim_Age</th>\n",
              "      <td>0.283464</td>\n",
              "      <td>1.000000</td>\n",
              "    </tr>\n",
              "  </tbody>\n",
              "</table>\n",
              "</div>\n",
              "    <div class=\"colab-df-buttons\">\n",
              "\n",
              "  <div class=\"colab-df-container\">\n",
              "    <button class=\"colab-df-convert\" onclick=\"convertToInteractive('df-08e07704-d648-4711-a325-d66da44c779f')\"\n",
              "            title=\"Convert this dataframe to an interactive table.\"\n",
              "            style=\"display:none;\">\n",
              "\n",
              "  <svg xmlns=\"http://www.w3.org/2000/svg\" height=\"24px\" viewBox=\"0 -960 960 960\">\n",
              "    <path d=\"M120-120v-720h720v720H120Zm60-500h600v-160H180v160Zm220 220h160v-160H400v160Zm0 220h160v-160H400v160ZM180-400h160v-160H180v160Zm440 0h160v-160H620v160ZM180-180h160v-160H180v160Zm440 0h160v-160H620v160Z\"/>\n",
              "  </svg>\n",
              "    </button>\n",
              "\n",
              "  <style>\n",
              "    .colab-df-container {\n",
              "      display:flex;\n",
              "      gap: 12px;\n",
              "    }\n",
              "\n",
              "    .colab-df-convert {\n",
              "      background-color: #E8F0FE;\n",
              "      border: none;\n",
              "      border-radius: 50%;\n",
              "      cursor: pointer;\n",
              "      display: none;\n",
              "      fill: #1967D2;\n",
              "      height: 32px;\n",
              "      padding: 0 0 0 0;\n",
              "      width: 32px;\n",
              "    }\n",
              "\n",
              "    .colab-df-convert:hover {\n",
              "      background-color: #E2EBFA;\n",
              "      box-shadow: 0px 1px 2px rgba(60, 64, 67, 0.3), 0px 1px 3px 1px rgba(60, 64, 67, 0.15);\n",
              "      fill: #174EA6;\n",
              "    }\n",
              "\n",
              "    .colab-df-buttons div {\n",
              "      margin-bottom: 4px;\n",
              "    }\n",
              "\n",
              "    [theme=dark] .colab-df-convert {\n",
              "      background-color: #3B4455;\n",
              "      fill: #D2E3FC;\n",
              "    }\n",
              "\n",
              "    [theme=dark] .colab-df-convert:hover {\n",
              "      background-color: #434B5C;\n",
              "      box-shadow: 0px 1px 3px 1px rgba(0, 0, 0, 0.15);\n",
              "      filter: drop-shadow(0px 1px 2px rgba(0, 0, 0, 0.3));\n",
              "      fill: #FFFFFF;\n",
              "    }\n",
              "  </style>\n",
              "\n",
              "    <script>\n",
              "      const buttonEl =\n",
              "        document.querySelector('#df-08e07704-d648-4711-a325-d66da44c779f button.colab-df-convert');\n",
              "      buttonEl.style.display =\n",
              "        google.colab.kernel.accessAllowed ? 'block' : 'none';\n",
              "\n",
              "      async function convertToInteractive(key) {\n",
              "        const element = document.querySelector('#df-08e07704-d648-4711-a325-d66da44c779f');\n",
              "        const dataTable =\n",
              "          await google.colab.kernel.invokeFunction('convertToInteractive',\n",
              "                                                    [key], {});\n",
              "        if (!dataTable) return;\n",
              "\n",
              "        const docLinkHtml = 'Like what you see? Visit the ' +\n",
              "          '<a target=\"_blank\" href=https://colab.research.google.com/notebooks/data_table.ipynb>data table notebook</a>'\n",
              "          + ' to learn more about interactive tables.';\n",
              "        element.innerHTML = '';\n",
              "        dataTable['output_type'] = 'display_data';\n",
              "        await google.colab.output.renderOutput(dataTable, element);\n",
              "        const docLink = document.createElement('div');\n",
              "        docLink.innerHTML = docLinkHtml;\n",
              "        element.appendChild(docLink);\n",
              "      }\n",
              "    </script>\n",
              "  </div>\n",
              "\n",
              "\n",
              "<div id=\"df-c1466f98-579f-4fff-9495-7414fe3b4f00\">\n",
              "  <button class=\"colab-df-quickchart\" onclick=\"quickchart('df-c1466f98-579f-4fff-9495-7414fe3b4f00')\"\n",
              "            title=\"Suggest charts\"\n",
              "            style=\"display:none;\">\n",
              "\n",
              "<svg xmlns=\"http://www.w3.org/2000/svg\" height=\"24px\"viewBox=\"0 0 24 24\"\n",
              "     width=\"24px\">\n",
              "    <g>\n",
              "        <path d=\"M19 3H5c-1.1 0-2 .9-2 2v14c0 1.1.9 2 2 2h14c1.1 0 2-.9 2-2V5c0-1.1-.9-2-2-2zM9 17H7v-7h2v7zm4 0h-2V7h2v10zm4 0h-2v-4h2v4z\"/>\n",
              "    </g>\n",
              "</svg>\n",
              "  </button>\n",
              "\n",
              "<style>\n",
              "  .colab-df-quickchart {\n",
              "      --bg-color: #E8F0FE;\n",
              "      --fill-color: #1967D2;\n",
              "      --hover-bg-color: #E2EBFA;\n",
              "      --hover-fill-color: #174EA6;\n",
              "      --disabled-fill-color: #AAA;\n",
              "      --disabled-bg-color: #DDD;\n",
              "  }\n",
              "\n",
              "  [theme=dark] .colab-df-quickchart {\n",
              "      --bg-color: #3B4455;\n",
              "      --fill-color: #D2E3FC;\n",
              "      --hover-bg-color: #434B5C;\n",
              "      --hover-fill-color: #FFFFFF;\n",
              "      --disabled-bg-color: #3B4455;\n",
              "      --disabled-fill-color: #666;\n",
              "  }\n",
              "\n",
              "  .colab-df-quickchart {\n",
              "    background-color: var(--bg-color);\n",
              "    border: none;\n",
              "    border-radius: 50%;\n",
              "    cursor: pointer;\n",
              "    display: none;\n",
              "    fill: var(--fill-color);\n",
              "    height: 32px;\n",
              "    padding: 0;\n",
              "    width: 32px;\n",
              "  }\n",
              "\n",
              "  .colab-df-quickchart:hover {\n",
              "    background-color: var(--hover-bg-color);\n",
              "    box-shadow: 0 1px 2px rgba(60, 64, 67, 0.3), 0 1px 3px 1px rgba(60, 64, 67, 0.15);\n",
              "    fill: var(--button-hover-fill-color);\n",
              "  }\n",
              "\n",
              "  .colab-df-quickchart-complete:disabled,\n",
              "  .colab-df-quickchart-complete:disabled:hover {\n",
              "    background-color: var(--disabled-bg-color);\n",
              "    fill: var(--disabled-fill-color);\n",
              "    box-shadow: none;\n",
              "  }\n",
              "\n",
              "  .colab-df-spinner {\n",
              "    border: 2px solid var(--fill-color);\n",
              "    border-color: transparent;\n",
              "    border-bottom-color: var(--fill-color);\n",
              "    animation:\n",
              "      spin 1s steps(1) infinite;\n",
              "  }\n",
              "\n",
              "  @keyframes spin {\n",
              "    0% {\n",
              "      border-color: transparent;\n",
              "      border-bottom-color: var(--fill-color);\n",
              "      border-left-color: var(--fill-color);\n",
              "    }\n",
              "    20% {\n",
              "      border-color: transparent;\n",
              "      border-left-color: var(--fill-color);\n",
              "      border-top-color: var(--fill-color);\n",
              "    }\n",
              "    30% {\n",
              "      border-color: transparent;\n",
              "      border-left-color: var(--fill-color);\n",
              "      border-top-color: var(--fill-color);\n",
              "      border-right-color: var(--fill-color);\n",
              "    }\n",
              "    40% {\n",
              "      border-color: transparent;\n",
              "      border-right-color: var(--fill-color);\n",
              "      border-top-color: var(--fill-color);\n",
              "    }\n",
              "    60% {\n",
              "      border-color: transparent;\n",
              "      border-right-color: var(--fill-color);\n",
              "    }\n",
              "    80% {\n",
              "      border-color: transparent;\n",
              "      border-right-color: var(--fill-color);\n",
              "      border-bottom-color: var(--fill-color);\n",
              "    }\n",
              "    90% {\n",
              "      border-color: transparent;\n",
              "      border-bottom-color: var(--fill-color);\n",
              "    }\n",
              "  }\n",
              "</style>\n",
              "\n",
              "  <script>\n",
              "    async function quickchart(key) {\n",
              "      const quickchartButtonEl =\n",
              "        document.querySelector('#' + key + ' button');\n",
              "      quickchartButtonEl.disabled = true;  // To prevent multiple clicks.\n",
              "      quickchartButtonEl.classList.add('colab-df-spinner');\n",
              "      try {\n",
              "        const charts = await google.colab.kernel.invokeFunction(\n",
              "            'suggestCharts', [key], {});\n",
              "      } catch (error) {\n",
              "        console.error('Error during call to suggestCharts:', error);\n",
              "      }\n",
              "      quickchartButtonEl.classList.remove('colab-df-spinner');\n",
              "      quickchartButtonEl.classList.add('colab-df-quickchart-complete');\n",
              "    }\n",
              "    (() => {\n",
              "      let quickchartButtonEl =\n",
              "        document.querySelector('#df-c1466f98-579f-4fff-9495-7414fe3b4f00 button');\n",
              "      quickchartButtonEl.style.display =\n",
              "        google.colab.kernel.accessAllowed ? 'block' : 'none';\n",
              "    })();\n",
              "  </script>\n",
              "</div>\n",
              "\n",
              "    </div>\n",
              "  </div>\n"
            ],
            "application/vnd.google.colaboratory.intrinsic+json": {
              "type": "dataframe",
              "summary": "{\n  \"name\": \"df_numeric\",\n  \"rows\": 2,\n  \"fields\": [\n    {\n      \"column\": \"Offender_Age\",\n      \"properties\": {\n        \"dtype\": \"number\",\n        \"std\": 0.5066671707697545,\n        \"min\": 0.28346441548820817,\n        \"max\": 1.0,\n        \"num_unique_values\": 2,\n        \"samples\": [\n          0.28346441548820817,\n          1.0\n        ],\n        \"semantic_type\": \"\",\n        \"description\": \"\"\n      }\n    },\n    {\n      \"column\": \"Victim_Age\",\n      \"properties\": {\n        \"dtype\": \"number\",\n        \"std\": 0.5066671707697545,\n        \"min\": 0.28346441548820817,\n        \"max\": 1.0,\n        \"num_unique_values\": 2,\n        \"samples\": [\n          1.0,\n          0.28346441548820817\n        ],\n        \"semantic_type\": \"\",\n        \"description\": \"\"\n      }\n    }\n  ]\n}"
            }
          },
          "metadata": {},
          "execution_count": 43
        }
      ],
      "source": [
        "# Compute correlation only for numerical features\n",
        "df_numeric = df.select_dtypes(include=[\"number\"])  # Select only numeric columns\n",
        "df_numeric.corr()\n"
      ]
    },
    {
      "cell_type": "code",
      "execution_count": 44,
      "metadata": {
        "colab": {
          "base_uri": "https://localhost:8080/",
          "height": 391
        },
        "id": "uoI6NnXt_OUU",
        "outputId": "1f24f593-4403-4a5a-de43-584e302ac6db"
      },
      "outputs": [
        {
          "output_type": "display_data",
          "data": {
            "text/plain": [
              "<Figure size 600x400 with 2 Axes>"
            ],
            "image/png": "[encoded data removed]"
          },
          "metadata": {}
        }
      ],
      "source": [
        "import seaborn as sns\n",
        "import matplotlib.pyplot as plt\n",
        "\n",
        "# Plot heatmap of correlation matrix\n",
        "plt.figure(figsize=(6, 4))\n",
        "sns.heatmap(df_numeric.corr(), annot=True, cmap=\"coolwarm\", fmt=\".2f\", linewidths=0.5)\n",
        "plt.title(\"Correlation Heatmap (Numerical Features Only)\")\n",
        "plt.show()\n"
      ]
    },
    {
      "cell_type": "markdown",
      "metadata": {
        "id": "lhnK5qRY_g2z"
      },
      "source": [
        "***Detecting Outliers Using Boxplots***"
      ]
    },
    {
      "cell_type": "code",
      "execution_count": 45,
      "metadata": {
        "colab": {
          "base_uri": "https://localhost:8080/",
          "height": 410
        },
        "id": "XXG7uduK_PWZ",
        "outputId": "6a7550d1-d2da-4c39-b6a1-52ce5f6b6265"
      },
      "outputs": [
        {
          "output_type": "display_data",
          "data": {
            "text/plain": [
              "<Figure size 600x400 with 1 Axes>"
            ],
            "image/png": "[encoded data removed]"
          },
          "metadata": {}
        }
      ],
      "source": [
        "import seaborn as sns\n",
        "import matplotlib.pyplot as plt\n",
        "\n",
        "# Boxplot for Offender Age\n",
        "plt.figure(figsize=(6, 4))\n",
        "sns.boxplot(x=df[\"Offender_Age\"])\n",
        "plt.title(\"Boxplot of Offender Age\")\n",
        "plt.xlabel(\"Offender Age\")\n",
        "plt.show()\n"
      ]
    },
    {
      "cell_type": "code",
      "execution_count": 46,
      "metadata": {
        "colab": {
          "base_uri": "https://localhost:8080/",
          "height": 410
        },
        "id": "04cN1HvLADTf",
        "outputId": "4e97239f-e703-4d6d-aa6f-6b4806c93fbd"
      },
      "outputs": [
        {
          "output_type": "display_data",
          "data": {
            "text/plain": [
              "<Figure size 600x400 with 1 Axes>"
            ],
            "image/png": "[encoded data removed]"
          },
          "metadata": {}
        }
      ],
      "source": [
        "# Boxplot for Victim Age\n",
        "plt.figure(figsize=(6, 4))\n",
        "sns.boxplot(x=df[\"Victim_Age\"])\n",
        "plt.title(\"Boxplot of Victim Age\")\n",
        "plt.xlabel(\"Victim Age\")\n",
        "plt.show()\n"
      ]
    },
    {
      "cell_type": "markdown",
      "metadata": {
        "id": "T1aDmY-XAXci"
      },
      "source": [
        "The Boxplot Analysis helps identify outliers in offender and victim ages.\n",
        "\n",
        "For Offender Age, most offenders are between 20 and 60 years old. However, there are several values above 70 years that appear to be outliers.\n",
        "\n",
        "For Victim Age, the majority of victims fall between 20 and 70 years old. However, there are some victims above 90 years, with at least one exceeding 120 years, which is likely an incorrect data entry and needs further verification."
      ]
    },
    {
      "cell_type": "markdown",
      "metadata": {
        "id": "5XOSdi3pAakA"
      },
      "source": [
        "***Handling Outliers***"
      ]
    },
    {
      "cell_type": "code",
      "execution_count": 47,
      "metadata": {
        "colab": {
          "base_uri": "https://localhost:8080/"
        },
        "id": "JFh4krmrAGey",
        "outputId": "4f9c234b-05af-48e0-905d-bf5554acd661"
      },
      "outputs": [
        {
          "output_type": "execute_result",
          "data": {
            "text/plain": [
              "(66, 49)"
            ]
          },
          "metadata": {},
          "execution_count": 47
        }
      ],
      "source": [
        "# Function to detect outliers using the IQR method\n",
        "def detect_outliers(df, column):\n",
        "    Q1 = df[column].quantile(0.25)\n",
        "    Q3 = df[column].quantile(0.75)\n",
        "    IQR = Q3 - Q1\n",
        "    lower_bound = Q1 - 1.5 * IQR\n",
        "    upper_bound = Q3 + 1.5 * IQR\n",
        "\n",
        "    outliers = df[(df[column] < lower_bound) | (df[column] > upper_bound)]\n",
        "    return outliers\n",
        "\n",
        "# Detect outliers for Offender_Age and Victim_Age\n",
        "outliers_offender = detect_outliers(df, \"Offender_Age\")\n",
        "outliers_victim = detect_outliers(df, \"Victim_Age\")\n",
        "\n",
        "# Display number of outliers detected\n",
        "len(outliers_offender), len(outliers_victim)\n"
      ]
    },
    {
      "cell_type": "code",
      "execution_count": 48,
      "metadata": {
        "colab": {
          "base_uri": "https://localhost:8080/"
        },
        "id": "4161JqkQAf89",
        "outputId": "f680252a-96d9-42d4-8c92-200d6beca0e9"
      },
      "outputs": [
        {
          "output_type": "execute_result",
          "data": {
            "text/plain": [
              "(Empty DataFrame\n",
              " Columns: [Disposition, OffenderStatus, Offender_Race, Offender_Gender, Offender_Age, PersonType, Victim_Race, Victim_Gender, Victim_Age, Victim_Fatal_Status, Report Type, Category]\n",
              " Index: [],\n",
              " Empty DataFrame\n",
              " Columns: [Disposition, OffenderStatus, Offender_Race, Offender_Gender, Offender_Age, PersonType, Victim_Race, Victim_Gender, Victim_Age, Victim_Fatal_Status, Report Type, Category]\n",
              " Index: [])"
            ]
          },
          "metadata": {},
          "execution_count": 48
        }
      ],
      "source": [
        "# Function to cap outliers\n",
        "def cap_outliers(df, column):\n",
        "    Q1 = df[column].quantile(0.25)\n",
        "    Q3 = df[column].quantile(0.75)\n",
        "    IQR = Q3 - Q1\n",
        "    lower_bound = Q1 - 1.5 * IQR\n",
        "    upper_bound = Q3 + 1.5 * IQR\n",
        "\n",
        "    df[column] = df[column].apply(lambda x: upper_bound if x > upper_bound else (lower_bound if x < lower_bound else x))\n",
        "\n",
        "# Apply capping for Offender_Age and Victim_Age\n",
        "cap_outliers(df, \"Offender_Age\")\n",
        "cap_outliers(df, \"Victim_Age\")\n",
        "\n",
        "# Check if outliers remain\n",
        "detect_outliers(df, \"Offender_Age\"), detect_outliers(df, \"Victim_Age\")\n"
      ]
    },
    {
      "cell_type": "markdown",
      "metadata": {
        "id": "HMKgAlpKA_65"
      },
      "source": [
        "**Step 4 – Data Preprocessing**"
      ]
    },
    {
      "cell_type": "markdown",
      "metadata": {
        "id": "HJJgj3nmBEVb"
      },
      "source": [
        "*Encode Categorical Variables*"
      ]
    },
    {
      "cell_type": "code",
      "execution_count": 49,
      "metadata": {
        "colab": {
          "base_uri": "https://localhost:8080/",
          "height": 290
        },
        "id": "-_fT2bVPAiUD",
        "outputId": "498fba99-6648-4086-b72b-d83fd8b9f439"
      },
      "outputs": [
        {
          "output_type": "execute_result",
          "data": {
            "text/plain": [
              "  OffenderStatus  Offender_Age  Victim_Age  Disposition_OPEN  \\\n",
              "0       ARRESTED          30.0        29.0             False   \n",
              "1       ARRESTED          30.0        29.0             False   \n",
              "2       ARRESTED          30.0        29.0             False   \n",
              "3       ARRESTED          30.0        29.0             False   \n",
              "4       ARRESTED          30.0        29.0             False   \n",
              "\n",
              "   Offender_Race_ASIAN  Offender_Race_BLACK  \\\n",
              "0                False                 True   \n",
              "1                False                 True   \n",
              "2                False                 True   \n",
              "3                False                 True   \n",
              "4                False                 True   \n",
              "\n",
              "   Offender_Race_NATIVE HAWAIIAN OR OTHER PACIFIC ISLANDER  \\\n",
              "0                                              False         \n",
              "1                                              False         \n",
              "2                                              False         \n",
              "3                                              False         \n",
              "4                                              False         \n",
              "\n",
              "   Offender_Race_UNKNOWN  Offender_Race_WHITE  Offender_Gender_MALE  ...  \\\n",
              "0                  False                False                  True  ...   \n",
              "1                  False                False                  True  ...   \n",
              "2                  False                False                  True  ...   \n",
              "3                  False                False                  True  ...   \n",
              "4                  False                False                  True  ...   \n",
              "\n",
              "   Victim_Race_WHITE  Victim_Gender_MALE  Victim_Gender_UNKNOWN  \\\n",
              "0              False               False                  False   \n",
              "1              False               False                  False   \n",
              "2              False               False                  False   \n",
              "3              False               False                  False   \n",
              "4              False               False                  False   \n",
              "\n",
              "   Victim_Fatal_Status_Non-fatal  Report Type_Supplemental Report  \\\n",
              "0                           True                             True   \n",
              "1                           True                             True   \n",
              "2                           True                             True   \n",
              "3                           True                             True   \n",
              "4                           True                             True   \n",
              "\n",
              "   Category_Miscellaneous  Category_Sexual Crimes  Category_Theft  \\\n",
              "0                   False                   False            True   \n",
              "1                   False                   False            True   \n",
              "2                   False                   False            True   \n",
              "3                   False                   False            True   \n",
              "4                   False                   False            True   \n",
              "\n",
              "   Category_Vandalism  Category_Violence  \n",
              "0               False              False  \n",
              "1               False              False  \n",
              "2               False              False  \n",
              "3               False              False  \n",
              "4               False              False  \n",
              "\n",
              "[5 rows x 26 columns]"
            ],
            "text/html": [
              "\n",
              "  <div id=\"df-4de5ea86-a755-48f4-9bbb-6f2cd470ecb6\" class=\"colab-df-container\">\n",
              "    <div>\n",
              "<style scoped>\n",
              "    .dataframe tbody tr th:only-of-type {\n",
              "        vertical-align: middle;\n",
              "    }\n",
              "\n",
              "    .dataframe tbody tr th {\n",
              "        vertical-align: top;\n",
              "    }\n",
              "\n",
              "    .dataframe thead th {\n",
              "        text-align: right;\n",
              "    }\n",
              "</style>\n",
              "<table border=\"1\" class=\"dataframe\">\n",
              "  <thead>\n",
              "    <tr style=\"text-align: right;\">\n",
              "      <th></th>\n",
              "      <th>OffenderStatus</th>\n",
              "      <th>Offender_Age</th>\n",
              "      <th>Victim_Age</th>\n",
              "      <th>Disposition_OPEN</th>\n",
              "      <th>Offender_Race_ASIAN</th>\n",
              "      <th>Offender_Race_BLACK</th>\n",
              "      <th>Offender_Race_NATIVE HAWAIIAN OR OTHER PACIFIC ISLANDER</th>\n",
              "      <th>Offender_Race_UNKNOWN</th>\n",
              "      <th>Offender_Race_WHITE</th>\n",
              "      <th>Offender_Gender_MALE</th>\n",
              "      <th>...</th>\n",
              "      <th>Victim_Race_WHITE</th>\n",
              "      <th>Victim_Gender_MALE</th>\n",
              "      <th>Victim_Gender_UNKNOWN</th>\n",
              "      <th>Victim_Fatal_Status_Non-fatal</th>\n",
              "      <th>Report Type_Supplemental Report</th>\n",
              "      <th>Category_Miscellaneous</th>\n",
              "      <th>Category_Sexual Crimes</th>\n",
              "      <th>Category_Theft</th>\n",
              "      <th>Category_Vandalism</th>\n",
              "      <th>Category_Violence</th>\n",
              "    </tr>\n",
              "  </thead>\n",
              "  <tbody>\n",
              "    <tr>\n",
              "      <th>0</th>\n",
              "      <td>ARRESTED</td>\n",
              "      <td>30.0</td>\n",
              "      <td>29.0</td>\n",
              "      <td>False</td>\n",
              "      <td>False</td>\n",
              "      <td>True</td>\n",
              "      <td>False</td>\n",
              "      <td>False</td>\n",
              "      <td>False</td>\n",
              "      <td>True</td>\n",
              "      <td>...</td>\n",
              "      <td>False</td>\n",
              "      <td>False</td>\n",
              "      <td>False</td>\n",
              "      <td>True</td>\n",
              "      <td>True</td>\n",
              "      <td>False</td>\n",
              "      <td>False</td>\n",
              "      <td>True</td>\n",
              "      <td>False</td>\n",
              "      <td>False</td>\n",
              "    </tr>\n",
              "    <tr>\n",
              "      <th>1</th>\n",
              "      <td>ARRESTED</td>\n",
              "      <td>30.0</td>\n",
              "      <td>29.0</td>\n",
              "      <td>False</td>\n",
              "      <td>False</td>\n",
              "      <td>True</td>\n",
              "      <td>False</td>\n",
              "      <td>False</td>\n",
              "      <td>False</td>\n",
              "      <td>True</td>\n",
              "      <td>...</td>\n",
              "      <td>False</td>\n",
              "      <td>False</td>\n",
              "      <td>False</td>\n",
              "      <td>True</td>\n",
              "      <td>True</td>\n",
              "      <td>False</td>\n",
              "      <td>False</td>\n",
              "      <td>True</td>\n",
              "      <td>False</td>\n",
              "      <td>False</td>\n",
              "    </tr>\n",
              "    <tr>\n",
              "      <th>2</th>\n",
              "      <td>ARRESTED</td>\n",
              "      <td>30.0</td>\n",
              "      <td>29.0</td>\n",
              "      <td>False</td>\n",
              "      <td>False</td>\n",
              "      <td>True</td>\n",
              "      <td>False</td>\n",
              "      <td>False</td>\n",
              "      <td>False</td>\n",
              "      <td>True</td>\n",
              "      <td>...</td>\n",
              "      <td>False</td>\n",
              "      <td>False</td>\n",
              "      <td>False</td>\n",
              "      <td>True</td>\n",
              "      <td>True</td>\n",
              "      <td>False</td>\n",
              "      <td>False</td>\n",
              "      <td>True</td>\n",
              "      <td>False</td>\n",
              "      <td>False</td>\n",
              "    </tr>\n",
              "    <tr>\n",
              "      <th>3</th>\n",
              "      <td>ARRESTED</td>\n",
              "      <td>30.0</td>\n",
              "      <td>29.0</td>\n",
              "      <td>False</td>\n",
              "      <td>False</td>\n",
              "      <td>True</td>\n",
              "      <td>False</td>\n",
              "      <td>False</td>\n",
              "      <td>False</td>\n",
              "      <td>True</td>\n",
              "      <td>...</td>\n",
              "      <td>False</td>\n",
              "      <td>False</td>\n",
              "      <td>False</td>\n",
              "      <td>True</td>\n",
              "      <td>True</td>\n",
              "      <td>False</td>\n",
              "      <td>False</td>\n",
              "      <td>True</td>\n",
              "      <td>False</td>\n",
              "      <td>False</td>\n",
              "    </tr>\n",
              "    <tr>\n",
              "      <th>4</th>\n",
              "      <td>ARRESTED</td>\n",
              "      <td>30.0</td>\n",
              "      <td>29.0</td>\n",
              "      <td>False</td>\n",
              "      <td>False</td>\n",
              "      <td>True</td>\n",
              "      <td>False</td>\n",
              "      <td>False</td>\n",
              "      <td>False</td>\n",
              "      <td>True</td>\n",
              "      <td>...</td>\n",
              "      <td>False</td>\n",
              "      <td>False</td>\n",
              "      <td>False</td>\n",
              "      <td>True</td>\n",
              "      <td>True</td>\n",
              "      <td>False</td>\n",
              "      <td>False</td>\n",
              "      <td>True</td>\n",
              "      <td>False</td>\n",
              "      <td>False</td>\n",
              "    </tr>\n",
              "  </tbody>\n",
              "</table>\n",
              "<p>5 rows × 26 columns</p>\n",
              "</div>\n",
              "    <div class=\"colab-df-buttons\">\n",
              "\n",
              "  <div class=\"colab-df-container\">\n",
              "    <button class=\"colab-df-convert\" onclick=\"convertToInteractive('df-4de5ea86-a755-48f4-9bbb-6f2cd470ecb6')\"\n",
              "            title=\"Convert this dataframe to an interactive table.\"\n",
              "            style=\"display:none;\">\n",
              "\n",
              "  <svg xmlns=\"http://www.w3.org/2000/svg\" height=\"24px\" viewBox=\"0 -960 960 960\">\n",
              "    <path d=\"M120-120v-720h720v720H120Zm60-500h600v-160H180v160Zm220 220h160v-160H400v160Zm0 220h160v-160H400v160ZM180-400h160v-160H180v160Zm440 0h160v-160H620v160ZM180-180h160v-160H180v160Zm440 0h160v-160H620v160Z\"/>\n",
              "  </svg>\n",
              "    </button>\n",
              "\n",
              "  <style>\n",
              "    .colab-df-container {\n",
              "      display:flex;\n",
              "      gap: 12px;\n",
              "    }\n",
              "\n",
              "    .colab-df-convert {\n",
              "      background-color: #E8F0FE;\n",
              "      border: none;\n",
              "      border-radius: 50%;\n",
              "      cursor: pointer;\n",
              "      display: none;\n",
              "      fill: #1967D2;\n",
              "      height: 32px;\n",
              "      padding: 0 0 0 0;\n",
              "      width: 32px;\n",
              "    }\n",
              "\n",
              "    .colab-df-convert:hover {\n",
              "      background-color: #E2EBFA;\n",
              "      box-shadow: 0px 1px 2px rgba(60, 64, 67, 0.3), 0px 1px 3px 1px rgba(60, 64, 67, 0.15);\n",
              "      fill: #174EA6;\n",
              "    }\n",
              "\n",
              "    .colab-df-buttons div {\n",
              "      margin-bottom: 4px;\n",
              "    }\n",
              "\n",
              "    [theme=dark] .colab-df-convert {\n",
              "      background-color: #3B4455;\n",
              "      fill: #D2E3FC;\n",
              "    }\n",
              "\n",
              "    [theme=dark] .colab-df-convert:hover {\n",
              "      background-color: #434B5C;\n",
              "      box-shadow: 0px 1px 3px 1px rgba(0, 0, 0, 0.15);\n",
              "      filter: drop-shadow(0px 1px 2px rgba(0, 0, 0, 0.3));\n",
              "      fill: #FFFFFF;\n",
              "    }\n",
              "  </style>\n",
              "\n",
              "    <script>\n",
              "      const buttonEl =\n",
              "        document.querySelector('#df-4de5ea86-a755-48f4-9bbb-6f2cd470ecb6 button.colab-df-convert');\n",
              "      buttonEl.style.display =\n",
              "        google.colab.kernel.accessAllowed ? 'block' : 'none';\n",
              "\n",
              "      async function convertToInteractive(key) {\n",
              "        const element = document.querySelector('#df-4de5ea86-a755-48f4-9bbb-6f2cd470ecb6');\n",
              "        const dataTable =\n",
              "          await google.colab.kernel.invokeFunction('convertToInteractive',\n",
              "                                                    [key], {});\n",
              "        if (!dataTable) return;\n",
              "\n",
              "        const docLinkHtml = 'Like what you see? Visit the ' +\n",
              "          '<a target=\"_blank\" href=https://colab.research.google.com/notebooks/data_table.ipynb>data table notebook</a>'\n",
              "          + ' to learn more about interactive tables.';\n",
              "        element.innerHTML = '';\n",
              "        dataTable['output_type'] = 'display_data';\n",
              "        await google.colab.output.renderOutput(dataTable, element);\n",
              "        const docLink = document.createElement('div');\n",
              "        docLink.innerHTML = docLinkHtml;\n",
              "        element.appendChild(docLink);\n",
              "      }\n",
              "    </script>\n",
              "  </div>\n",
              "\n",
              "\n",
              "<div id=\"df-28f59e88-39be-4c91-822d-e034896b8d66\">\n",
              "  <button class=\"colab-df-quickchart\" onclick=\"quickchart('df-28f59e88-39be-4c91-822d-e034896b8d66')\"\n",
              "            title=\"Suggest charts\"\n",
              "            style=\"display:none;\">\n",
              "\n",
              "<svg xmlns=\"http://www.w3.org/2000/svg\" height=\"24px\"viewBox=\"0 0 24 24\"\n",
              "     width=\"24px\">\n",
              "    <g>\n",
              "        <path d=\"M19 3H5c-1.1 0-2 .9-2 2v14c0 1.1.9 2 2 2h14c1.1 0 2-.9 2-2V5c0-1.1-.9-2-2-2zM9 17H7v-7h2v7zm4 0h-2V7h2v10zm4 0h-2v-4h2v4z\"/>\n",
              "    </g>\n",
              "</svg>\n",
              "  </button>\n",
              "\n",
              "<style>\n",
              "  .colab-df-quickchart {\n",
              "      --bg-color: #E8F0FE;\n",
              "      --fill-color: #1967D2;\n",
              "      --hover-bg-color: #E2EBFA;\n",
              "      --hover-fill-color: #174EA6;\n",
              "      --disabled-fill-color: #AAA;\n",
              "      --disabled-bg-color: #DDD;\n",
              "  }\n",
              "\n",
              "  [theme=dark] .colab-df-quickchart {\n",
              "      --bg-color: #3B4455;\n",
              "      --fill-color: #D2E3FC;\n",
              "      --hover-bg-color: #434B5C;\n",
              "      --hover-fill-color: #FFFFFF;\n",
              "      --disabled-bg-color: #3B4455;\n",
              "      --disabled-fill-color: #666;\n",
              "  }\n",
              "\n",
              "  .colab-df-quickchart {\n",
              "    background-color: var(--bg-color);\n",
              "    border: none;\n",
              "    border-radius: 50%;\n",
              "    cursor: pointer;\n",
              "    display: none;\n",
              "    fill: var(--fill-color);\n",
              "    height: 32px;\n",
              "    padding: 0;\n",
              "    width: 32px;\n",
              "  }\n",
              "\n",
              "  .colab-df-quickchart:hover {\n",
              "    background-color: var(--hover-bg-color);\n",
              "    box-shadow: 0 1px 2px rgba(60, 64, 67, 0.3), 0 1px 3px 1px rgba(60, 64, 67, 0.15);\n",
              "    fill: var(--button-hover-fill-color);\n",
              "  }\n",
              "\n",
              "  .colab-df-quickchart-complete:disabled,\n",
              "  .colab-df-quickchart-complete:disabled:hover {\n",
              "    background-color: var(--disabled-bg-color);\n",
              "    fill: var(--disabled-fill-color);\n",
              "    box-shadow: none;\n",
              "  }\n",
              "\n",
              "  .colab-df-spinner {\n",
              "    border: 2px solid var(--fill-color);\n",
              "    border-color: transparent;\n",
              "    border-bottom-color: var(--fill-color);\n",
              "    animation:\n",
              "      spin 1s steps(1) infinite;\n",
              "  }\n",
              "\n",
              "  @keyframes spin {\n",
              "    0% {\n",
              "      border-color: transparent;\n",
              "      border-bottom-color: var(--fill-color);\n",
              "      border-left-color: var(--fill-color);\n",
              "    }\n",
              "    20% {\n",
              "      border-color: transparent;\n",
              "      border-left-color: var(--fill-color);\n",
              "      border-top-color: var(--fill-color);\n",
              "    }\n",
              "    30% {\n",
              "      border-color: transparent;\n",
              "      border-left-color: var(--fill-color);\n",
              "      border-top-color: var(--fill-color);\n",
              "      border-right-color: var(--fill-color);\n",
              "    }\n",
              "    40% {\n",
              "      border-color: transparent;\n",
              "      border-right-color: var(--fill-color);\n",
              "      border-top-color: var(--fill-color);\n",
              "    }\n",
              "    60% {\n",
              "      border-color: transparent;\n",
              "      border-right-color: var(--fill-color);\n",
              "    }\n",
              "    80% {\n",
              "      border-color: transparent;\n",
              "      border-right-color: var(--fill-color);\n",
              "      border-bottom-color: var(--fill-color);\n",
              "    }\n",
              "    90% {\n",
              "      border-color: transparent;\n",
              "      border-bottom-color: var(--fill-color);\n",
              "    }\n",
              "  }\n",
              "</style>\n",
              "\n",
              "  <script>\n",
              "    async function quickchart(key) {\n",
              "      const quickchartButtonEl =\n",
              "        document.querySelector('#' + key + ' button');\n",
              "      quickchartButtonEl.disabled = true;  // To prevent multiple clicks.\n",
              "      quickchartButtonEl.classList.add('colab-df-spinner');\n",
              "      try {\n",
              "        const charts = await google.colab.kernel.invokeFunction(\n",
              "            'suggestCharts', [key], {});\n",
              "      } catch (error) {\n",
              "        console.error('Error during call to suggestCharts:', error);\n",
              "      }\n",
              "      quickchartButtonEl.classList.remove('colab-df-spinner');\n",
              "      quickchartButtonEl.classList.add('colab-df-quickchart-complete');\n",
              "    }\n",
              "    (() => {\n",
              "      let quickchartButtonEl =\n",
              "        document.querySelector('#df-28f59e88-39be-4c91-822d-e034896b8d66 button');\n",
              "      quickchartButtonEl.style.display =\n",
              "        google.colab.kernel.accessAllowed ? 'block' : 'none';\n",
              "    })();\n",
              "  </script>\n",
              "</div>\n",
              "\n",
              "    </div>\n",
              "  </div>\n"
            ],
            "application/vnd.google.colaboratory.intrinsic+json": {
              "type": "dataframe",
              "variable_name": "df_encoded"
            }
          },
          "metadata": {},
          "execution_count": 49
        }
      ],
      "source": [
        "# Perform one-hot encoding on categorical variables\n",
        "df_encoded = pd.get_dummies(df, columns=[\n",
        "    \"Disposition\", \"Offender_Race\", \"Offender_Gender\",\n",
        "    \"PersonType\", \"Victim_Race\", \"Victim_Gender\",\n",
        "    \"Victim_Fatal_Status\", \"Report Type\", \"Category\"\n",
        "], drop_first=True)\n",
        "\n",
        "# Display the first few rows of the encoded dataset\n",
        "df_encoded.head()\n"
      ]
    },
    {
      "cell_type": "markdown",
      "metadata": {
        "id": "iCP1m6U0BXpX"
      },
      "source": [
        "*Feature Scaling*"
      ]
    },
    {
      "cell_type": "code",
      "execution_count": 50,
      "metadata": {
        "colab": {
          "base_uri": "https://localhost:8080/",
          "height": 290
        },
        "id": "1Knd579MBGso",
        "outputId": "7820b1c5-6280-4042-e50a-2a59e59ed624"
      },
      "outputs": [
        {
          "output_type": "execute_result",
          "data": {
            "text/plain": [
              "  OffenderStatus  Offender_Age  Victim_Age  Disposition_OPEN  \\\n",
              "0       ARRESTED     -0.362289   -0.629197             False   \n",
              "1       ARRESTED     -0.362289   -0.629197             False   \n",
              "2       ARRESTED     -0.362289   -0.629197             False   \n",
              "3       ARRESTED     -0.362289   -0.629197             False   \n",
              "4       ARRESTED     -0.362289   -0.629197             False   \n",
              "\n",
              "   Offender_Race_ASIAN  Offender_Race_BLACK  \\\n",
              "0                False                 True   \n",
              "1                False                 True   \n",
              "2                False                 True   \n",
              "3                False                 True   \n",
              "4                False                 True   \n",
              "\n",
              "   Offender_Race_NATIVE HAWAIIAN OR OTHER PACIFIC ISLANDER  \\\n",
              "0                                              False         \n",
              "1                                              False         \n",
              "2                                              False         \n",
              "3                                              False         \n",
              "4                                              False         \n",
              "\n",
              "   Offender_Race_UNKNOWN  Offender_Race_WHITE  Offender_Gender_MALE  ...  \\\n",
              "0                  False                False                  True  ...   \n",
              "1                  False                False                  True  ...   \n",
              "2                  False                False                  True  ...   \n",
              "3                  False                False                  True  ...   \n",
              "4                  False                False                  True  ...   \n",
              "\n",
              "   Victim_Race_WHITE  Victim_Gender_MALE  Victim_Gender_UNKNOWN  \\\n",
              "0              False               False                  False   \n",
              "1              False               False                  False   \n",
              "2              False               False                  False   \n",
              "3              False               False                  False   \n",
              "4              False               False                  False   \n",
              "\n",
              "   Victim_Fatal_Status_Non-fatal  Report Type_Supplemental Report  \\\n",
              "0                           True                             True   \n",
              "1                           True                             True   \n",
              "2                           True                             True   \n",
              "3                           True                             True   \n",
              "4                           True                             True   \n",
              "\n",
              "   Category_Miscellaneous  Category_Sexual Crimes  Category_Theft  \\\n",
              "0                   False                   False            True   \n",
              "1                   False                   False            True   \n",
              "2                   False                   False            True   \n",
              "3                   False                   False            True   \n",
              "4                   False                   False            True   \n",
              "\n",
              "   Category_Vandalism  Category_Violence  \n",
              "0               False              False  \n",
              "1               False              False  \n",
              "2               False              False  \n",
              "3               False              False  \n",
              "4               False              False  \n",
              "\n",
              "[5 rows x 26 columns]"
            ],
            "text/html": [
              "\n",
              "  <div id=\"df-c24ecc09-4aeb-46d7-9848-d4dc98905453\" class=\"colab-df-container\">\n",
              "    <div>\n",
              "<style scoped>\n",
              "    .dataframe tbody tr th:only-of-type {\n",
              "        vertical-align: middle;\n",
              "    }\n",
              "\n",
              "    .dataframe tbody tr th {\n",
              "        vertical-align: top;\n",
              "    }\n",
              "\n",
              "    .dataframe thead th {\n",
              "        text-align: right;\n",
              "    }\n",
              "</style>\n",
              "<table border=\"1\" class=\"dataframe\">\n",
              "  <thead>\n",
              "    <tr style=\"text-align: right;\">\n",
              "      <th></th>\n",
              "      <th>OffenderStatus</th>\n",
              "      <th>Offender_Age</th>\n",
              "      <th>Victim_Age</th>\n",
              "      <th>Disposition_OPEN</th>\n",
              "      <th>Offender_Race_ASIAN</th>\n",
              "      <th>Offender_Race_BLACK</th>\n",
              "      <th>Offender_Race_NATIVE HAWAIIAN OR OTHER PACIFIC ISLANDER</th>\n",
              "      <th>Offender_Race_UNKNOWN</th>\n",
              "      <th>Offender_Race_WHITE</th>\n",
              "      <th>Offender_Gender_MALE</th>\n",
              "      <th>...</th>\n",
              "      <th>Victim_Race_WHITE</th>\n",
              "      <th>Victim_Gender_MALE</th>\n",
              "      <th>Victim_Gender_UNKNOWN</th>\n",
              "      <th>Victim_Fatal_Status_Non-fatal</th>\n",
              "      <th>Report Type_Supplemental Report</th>\n",
              "      <th>Category_Miscellaneous</th>\n",
              "      <th>Category_Sexual Crimes</th>\n",
              "      <th>Category_Theft</th>\n",
              "      <th>Category_Vandalism</th>\n",
              "      <th>Category_Violence</th>\n",
              "    </tr>\n",
              "  </thead>\n",
              "  <tbody>\n",
              "    <tr>\n",
              "      <th>0</th>\n",
              "      <td>ARRESTED</td>\n",
              "      <td>-0.362289</td>\n",
              "      <td>-0.629197</td>\n",
              "      <td>False</td>\n",
              "      <td>False</td>\n",
              "      <td>True</td>\n",
              "      <td>False</td>\n",
              "      <td>False</td>\n",
              "      <td>False</td>\n",
              "      <td>True</td>\n",
              "      <td>...</td>\n",
              "      <td>False</td>\n",
              "      <td>False</td>\n",
              "      <td>False</td>\n",
              "      <td>True</td>\n",
              "      <td>True</td>\n",
              "      <td>False</td>\n",
              "      <td>False</td>\n",
              "      <td>True</td>\n",
              "      <td>False</td>\n",
              "      <td>False</td>\n",
              "    </tr>\n",
              "    <tr>\n",
              "      <th>1</th>\n",
              "      <td>ARRESTED</td>\n",
              "      <td>-0.362289</td>\n",
              "      <td>-0.629197</td>\n",
              "      <td>False</td>\n",
              "      <td>False</td>\n",
              "      <td>True</td>\n",
              "      <td>False</td>\n",
              "      <td>False</td>\n",
              "      <td>False</td>\n",
              "      <td>True</td>\n",
              "      <td>...</td>\n",
              "      <td>False</td>\n",
              "      <td>False</td>\n",
              "      <td>False</td>\n",
              "      <td>True</td>\n",
              "      <td>True</td>\n",
              "      <td>False</td>\n",
              "      <td>False</td>\n",
              "      <td>True</td>\n",
              "      <td>False</td>\n",
              "      <td>False</td>\n",
              "    </tr>\n",
              "    <tr>\n",
              "      <th>2</th>\n",
              "      <td>ARRESTED</td>\n",
              "      <td>-0.362289</td>\n",
              "      <td>-0.629197</td>\n",
              "      <td>False</td>\n",
              "      <td>False</td>\n",
              "      <td>True</td>\n",
              "      <td>False</td>\n",
              "      <td>False</td>\n",
              "      <td>False</td>\n",
              "      <td>True</td>\n",
              "      <td>...</td>\n",
              "      <td>False</td>\n",
              "      <td>False</td>\n",
              "      <td>False</td>\n",
              "      <td>True</td>\n",
              "      <td>True</td>\n",
              "      <td>False</td>\n",
              "      <td>False</td>\n",
              "      <td>True</td>\n",
              "      <td>False</td>\n",
              "      <td>False</td>\n",
              "    </tr>\n",
              "    <tr>\n",
              "      <th>3</th>\n",
              "      <td>ARRESTED</td>\n",
              "      <td>-0.362289</td>\n",
              "      <td>-0.629197</td>\n",
              "      <td>False</td>\n",
              "      <td>False</td>\n",
              "      <td>True</td>\n",
              "      <td>False</td>\n",
              "      <td>False</td>\n",
              "      <td>False</td>\n",
              "      <td>True</td>\n",
              "      <td>...</td>\n",
              "      <td>False</td>\n",
              "      <td>False</td>\n",
              "      <td>False</td>\n",
              "      <td>True</td>\n",
              "      <td>True</td>\n",
              "      <td>False</td>\n",
              "      <td>False</td>\n",
              "      <td>True</td>\n",
              "      <td>False</td>\n",
              "      <td>False</td>\n",
              "    </tr>\n",
              "    <tr>\n",
              "      <th>4</th>\n",
              "      <td>ARRESTED</td>\n",
              "      <td>-0.362289</td>\n",
              "      <td>-0.629197</td>\n",
              "      <td>False</td>\n",
              "      <td>False</td>\n",
              "      <td>True</td>\n",
              "      <td>False</td>\n",
              "      <td>False</td>\n",
              "      <td>False</td>\n",
              "      <td>True</td>\n",
              "      <td>...</td>\n",
              "      <td>False</td>\n",
              "      <td>False</td>\n",
              "      <td>False</td>\n",
              "      <td>True</td>\n",
              "      <td>True</td>\n",
              "      <td>False</td>\n",
              "      <td>False</td>\n",
              "      <td>True</td>\n",
              "      <td>False</td>\n",
              "      <td>False</td>\n",
              "    </tr>\n",
              "  </tbody>\n",
              "</table>\n",
              "<p>5 rows × 26 columns</p>\n",
              "</div>\n",
              "    <div class=\"colab-df-buttons\">\n",
              "\n",
              "  <div class=\"colab-df-container\">\n",
              "    <button class=\"colab-df-convert\" onclick=\"convertToInteractive('df-c24ecc09-4aeb-46d7-9848-d4dc98905453')\"\n",
              "            title=\"Convert this dataframe to an interactive table.\"\n",
              "            style=\"display:none;\">\n",
              "\n",
              "  <svg xmlns=\"http://www.w3.org/2000/svg\" height=\"24px\" viewBox=\"0 -960 960 960\">\n",
              "    <path d=\"M120-120v-720h720v720H120Zm60-500h600v-160H180v160Zm220 220h160v-160H400v160Zm0 220h160v-160H400v160ZM180-400h160v-160H180v160Zm440 0h160v-160H620v160ZM180-180h160v-160H180v160Zm440 0h160v-160H620v160Z\"/>\n",
              "  </svg>\n",
              "    </button>\n",
              "\n",
              "  <style>\n",
              "    .colab-df-container {\n",
              "      display:flex;\n",
              "      gap: 12px;\n",
              "    }\n",
              "\n",
              "    .colab-df-convert {\n",
              "      background-color: #E8F0FE;\n",
              "      border: none;\n",
              "      border-radius: 50%;\n",
              "      cursor: pointer;\n",
              "      display: none;\n",
              "      fill: #1967D2;\n",
              "      height: 32px;\n",
              "      padding: 0 0 0 0;\n",
              "      width: 32px;\n",
              "    }\n",
              "\n",
              "    .colab-df-convert:hover {\n",
              "      background-color: #E2EBFA;\n",
              "      box-shadow: 0px 1px 2px rgba(60, 64, 67, 0.3), 0px 1px 3px 1px rgba(60, 64, 67, 0.15);\n",
              "      fill: #174EA6;\n",
              "    }\n",
              "\n",
              "    .colab-df-buttons div {\n",
              "      margin-bottom: 4px;\n",
              "    }\n",
              "\n",
              "    [theme=dark] .colab-df-convert {\n",
              "      background-color: #3B4455;\n",
              "      fill: #D2E3FC;\n",
              "    }\n",
              "\n",
              "    [theme=dark] .colab-df-convert:hover {\n",
              "      background-color: #434B5C;\n",
              "      box-shadow: 0px 1px 3px 1px rgba(0, 0, 0, 0.15);\n",
              "      filter: drop-shadow(0px 1px 2px rgba(0, 0, 0, 0.3));\n",
              "      fill: #FFFFFF;\n",
              "    }\n",
              "  </style>\n",
              "\n",
              "    <script>\n",
              "      const buttonEl =\n",
              "        document.querySelector('#df-c24ecc09-4aeb-46d7-9848-d4dc98905453 button.colab-df-convert');\n",
              "      buttonEl.style.display =\n",
              "        google.colab.kernel.accessAllowed ? 'block' : 'none';\n",
              "\n",
              "      async function convertToInteractive(key) {\n",
              "        const element = document.querySelector('#df-c24ecc09-4aeb-46d7-9848-d4dc98905453');\n",
              "        const dataTable =\n",
              "          await google.colab.kernel.invokeFunction('convertToInteractive',\n",
              "                                                    [key], {});\n",
              "        if (!dataTable) return;\n",
              "\n",
              "        const docLinkHtml = 'Like what you see? Visit the ' +\n",
              "          '<a target=\"_blank\" href=https://colab.research.google.com/notebooks/data_table.ipynb>data table notebook</a>'\n",
              "          + ' to learn more about interactive tables.';\n",
              "        element.innerHTML = '';\n",
              "        dataTable['output_type'] = 'display_data';\n",
              "        await google.colab.output.renderOutput(dataTable, element);\n",
              "        const docLink = document.createElement('div');\n",
              "        docLink.innerHTML = docLinkHtml;\n",
              "        element.appendChild(docLink);\n",
              "      }\n",
              "    </script>\n",
              "  </div>\n",
              "\n",
              "\n",
              "<div id=\"df-1b27d074-714f-4a71-92a7-a3a5e4164142\">\n",
              "  <button class=\"colab-df-quickchart\" onclick=\"quickchart('df-1b27d074-714f-4a71-92a7-a3a5e4164142')\"\n",
              "            title=\"Suggest charts\"\n",
              "            style=\"display:none;\">\n",
              "\n",
              "<svg xmlns=\"http://www.w3.org/2000/svg\" height=\"24px\"viewBox=\"0 0 24 24\"\n",
              "     width=\"24px\">\n",
              "    <g>\n",
              "        <path d=\"M19 3H5c-1.1 0-2 .9-2 2v14c0 1.1.9 2 2 2h14c1.1 0 2-.9 2-2V5c0-1.1-.9-2-2-2zM9 17H7v-7h2v7zm4 0h-2V7h2v10zm4 0h-2v-4h2v4z\"/>\n",
              "    </g>\n",
              "</svg>\n",
              "  </button>\n",
              "\n",
              "<style>\n",
              "  .colab-df-quickchart {\n",
              "      --bg-color: #E8F0FE;\n",
              "      --fill-color: #1967D2;\n",
              "      --hover-bg-color: #E2EBFA;\n",
              "      --hover-fill-color: #174EA6;\n",
              "      --disabled-fill-color: #AAA;\n",
              "      --disabled-bg-color: #DDD;\n",
              "  }\n",
              "\n",
              "  [theme=dark] .colab-df-quickchart {\n",
              "      --bg-color: #3B4455;\n",
              "      --fill-color: #D2E3FC;\n",
              "      --hover-bg-color: #434B5C;\n",
              "      --hover-fill-color: #FFFFFF;\n",
              "      --disabled-bg-color: #3B4455;\n",
              "      --disabled-fill-color: #666;\n",
              "  }\n",
              "\n",
              "  .colab-df-quickchart {\n",
              "    background-color: var(--bg-color);\n",
              "    border: none;\n",
              "    border-radius: 50%;\n",
              "    cursor: pointer;\n",
              "    display: none;\n",
              "    fill: var(--fill-color);\n",
              "    height: 32px;\n",
              "    padding: 0;\n",
              "    width: 32px;\n",
              "  }\n",
              "\n",
              "  .colab-df-quickchart:hover {\n",
              "    background-color: var(--hover-bg-color);\n",
              "    box-shadow: 0 1px 2px rgba(60, 64, 67, 0.3), 0 1px 3px 1px rgba(60, 64, 67, 0.15);\n",
              "    fill: var(--button-hover-fill-color);\n",
              "  }\n",
              "\n",
              "  .colab-df-quickchart-complete:disabled,\n",
              "  .colab-df-quickchart-complete:disabled:hover {\n",
              "    background-color: var(--disabled-bg-color);\n",
              "    fill: var(--disabled-fill-color);\n",
              "    box-shadow: none;\n",
              "  }\n",
              "\n",
              "  .colab-df-spinner {\n",
              "    border: 2px solid var(--fill-color);\n",
              "    border-color: transparent;\n",
              "    border-bottom-color: var(--fill-color);\n",
              "    animation:\n",
              "      spin 1s steps(1) infinite;\n",
              "  }\n",
              "\n",
              "  @keyframes spin {\n",
              "    0% {\n",
              "      border-color: transparent;\n",
              "      border-bottom-color: var(--fill-color);\n",
              "      border-left-color: var(--fill-color);\n",
              "    }\n",
              "    20% {\n",
              "      border-color: transparent;\n",
              "      border-left-color: var(--fill-color);\n",
              "      border-top-color: var(--fill-color);\n",
              "    }\n",
              "    30% {\n",
              "      border-color: transparent;\n",
              "      border-left-color: var(--fill-color);\n",
              "      border-top-color: var(--fill-color);\n",
              "      border-right-color: var(--fill-color);\n",
              "    }\n",
              "    40% {\n",
              "      border-color: transparent;\n",
              "      border-right-color: var(--fill-color);\n",
              "      border-top-color: var(--fill-color);\n",
              "    }\n",
              "    60% {\n",
              "      border-color: transparent;\n",
              "      border-right-color: var(--fill-color);\n",
              "    }\n",
              "    80% {\n",
              "      border-color: transparent;\n",
              "      border-right-color: var(--fill-color);\n",
              "      border-bottom-color: var(--fill-color);\n",
              "    }\n",
              "    90% {\n",
              "      border-color: transparent;\n",
              "      border-bottom-color: var(--fill-color);\n",
              "    }\n",
              "  }\n",
              "</style>\n",
              "\n",
              "  <script>\n",
              "    async function quickchart(key) {\n",
              "      const quickchartButtonEl =\n",
              "        document.querySelector('#' + key + ' button');\n",
              "      quickchartButtonEl.disabled = true;  // To prevent multiple clicks.\n",
              "      quickchartButtonEl.classList.add('colab-df-spinner');\n",
              "      try {\n",
              "        const charts = await google.colab.kernel.invokeFunction(\n",
              "            'suggestCharts', [key], {});\n",
              "      } catch (error) {\n",
              "        console.error('Error during call to suggestCharts:', error);\n",
              "      }\n",
              "      quickchartButtonEl.classList.remove('colab-df-spinner');\n",
              "      quickchartButtonEl.classList.add('colab-df-quickchart-complete');\n",
              "    }\n",
              "    (() => {\n",
              "      let quickchartButtonEl =\n",
              "        document.querySelector('#df-1b27d074-714f-4a71-92a7-a3a5e4164142 button');\n",
              "      quickchartButtonEl.style.display =\n",
              "        google.colab.kernel.accessAllowed ? 'block' : 'none';\n",
              "    })();\n",
              "  </script>\n",
              "</div>\n",
              "\n",
              "    </div>\n",
              "  </div>\n"
            ],
            "application/vnd.google.colaboratory.intrinsic+json": {
              "type": "dataframe",
              "variable_name": "df_encoded"
            }
          },
          "metadata": {},
          "execution_count": 50
        }
      ],
      "source": [
        "from sklearn.preprocessing import StandardScaler\n",
        "\n",
        "# Initialize StandardScaler\n",
        "scaler = StandardScaler()\n",
        "\n",
        "# Select numerical columns to scale\n",
        "numerical_cols = [\"Offender_Age\", \"Victim_Age\"]\n",
        "\n",
        "# Apply scaling\n",
        "df_encoded[numerical_cols] = scaler.fit_transform(df_encoded[numerical_cols])\n",
        "\n",
        "# Display the first few rows to verify scaling\n",
        "df_encoded.head()\n"
      ]
    },
    {
      "cell_type": "markdown",
      "metadata": {
        "id": "OnYqw4yxBofP"
      },
      "source": [
        "*Train-Test Split*"
      ]
    },
    {
      "cell_type": "code",
      "execution_count": 51,
      "metadata": {
        "colab": {
          "base_uri": "https://localhost:8080/"
        },
        "id": "qJPZPZRrBa9S",
        "outputId": "4a7c17d6-c2b8-467c-8b3d-170c25f5786d"
      },
      "outputs": [
        {
          "output_type": "execute_result",
          "data": {
            "text/plain": [
              "((5310, 24), (1328, 24), (5310, 24), (1328, 24))"
            ]
          },
          "metadata": {},
          "execution_count": 51
        }
      ],
      "source": [
        "from sklearn.model_selection import train_test_split\n",
        "\n",
        "# Define features (X) and targets (y)\n",
        "X = df_encoded.drop(columns=[\"Offender_Age\", \"Offender_Gender_MALE\"])  # Features\n",
        "y_regression = df_encoded[\"Offender_Age\"]  # Regression target\n",
        "y_classification = df_encoded[\"Offender_Gender_MALE\"]  # Classification target (1 = Male, 0 = Female)\n",
        "\n",
        "# Split data into training (80%) and testing (20%) sets\n",
        "X_train_reg, X_test_reg, y_train_reg, y_test_reg = train_test_split(X, y_regression, test_size=0.2, random_state=42)\n",
        "X_train_cls, X_test_cls, y_train_cls, y_test_cls = train_test_split(X, y_classification, test_size=0.2, random_state=42)\n",
        "\n",
        "# Display dataset sizes\n",
        "X_train_reg.shape, X_test_reg.shape, X_train_cls.shape, X_test_cls.shape\n"
      ]
    },
    {
      "cell_type": "markdown",
      "metadata": {
        "id": "0EGMxclTCHqx"
      },
      "source": [
        "**Step 5 – Model Training**"
      ]
    },
    {
      "cell_type": "markdown",
      "metadata": {
        "id": "MVchdJmuCMDv"
      },
      "source": [
        "*1. Train Regression Models*"
      ]
    },
    {
      "cell_type": "code",
      "execution_count": 52,
      "metadata": {
        "id": "Am-BFuykBs76"
      },
      "outputs": [],
      "source": [
        "# Drop 'OffenderStatus' from features (since it has only one unique value)\n",
        "X_train_reg = X_train_reg.drop(columns=[\"OffenderStatus\"])\n",
        "X_test_reg = X_test_reg.drop(columns=[\"OffenderStatus\"])\n"
      ]
    },
    {
      "cell_type": "markdown",
      "metadata": {
        "id": "2G1htDf6C2YS"
      },
      "source": [
        "*Train Linear Regression*"
      ]
    },
    {
      "cell_type": "code",
      "execution_count": 53,
      "metadata": {
        "colab": {
          "base_uri": "https://localhost:8080/",
          "height": 36
        },
        "id": "8WZbWueUCOgI",
        "outputId": "e226114e-2e90-42ea-a14c-78701fc4c5dc"
      },
      "outputs": [
        {
          "output_type": "execute_result",
          "data": {
            "text/plain": [
              "'Linear Regression model trained successfully.'"
            ],
            "application/vnd.google.colaboratory.intrinsic+json": {
              "type": "string"
            }
          },
          "metadata": {},
          "execution_count": 53
        }
      ],
      "source": [
        "from sklearn.linear_model import LinearRegression\n",
        "\n",
        "# Initialize Linear Regression model\n",
        "lr_model = LinearRegression()\n",
        "\n",
        "# Train the model\n",
        "lr_model.fit(X_train_reg, y_train_reg)\n",
        "\n",
        "# Display completion message\n",
        "\"Linear Regression model trained successfully.\"\n"
      ]
    },
    {
      "cell_type": "markdown",
      "metadata": {
        "id": "BV2FYk3nDFBQ"
      },
      "source": [
        "*Train Random Forest Regressor*"
      ]
    },
    {
      "cell_type": "code",
      "execution_count": 54,
      "metadata": {
        "colab": {
          "base_uri": "https://localhost:8080/",
          "height": 36
        },
        "id": "LJ2RE8W9Cs7T",
        "outputId": "c3358a1d-3129-4428-ad0e-864aac397751"
      },
      "outputs": [
        {
          "output_type": "execute_result",
          "data": {
            "text/plain": [
              "'Random Forest Regressor model trained successfully.'"
            ],
            "application/vnd.google.colaboratory.intrinsic+json": {
              "type": "string"
            }
          },
          "metadata": {},
          "execution_count": 54
        }
      ],
      "source": [
        "from sklearn.ensemble import RandomForestRegressor\n",
        "\n",
        "# Initialize Random Forest Regressor model\n",
        "rf_model = RandomForestRegressor(n_estimators=100, random_state=42)\n",
        "\n",
        "# Train the model\n",
        "rf_model.fit(X_train_reg, y_train_reg)\n",
        "\n",
        "# Display completion message\n",
        "\"Random Forest Regressor model trained successfully.\"\n"
      ]
    },
    {
      "cell_type": "markdown",
      "metadata": {
        "id": "_Hnp36mADNYI"
      },
      "source": [
        "*Evaluate Regression Models*"
      ]
    },
    {
      "cell_type": "code",
      "execution_count": 55,
      "metadata": {
        "colab": {
          "base_uri": "https://localhost:8080/",
          "height": 36
        },
        "id": "pC9I0LwgDHef",
        "outputId": "824a9eb2-fb17-49c3-eb88-9a52815f7546"
      },
      "outputs": [
        {
          "output_type": "execute_result",
          "data": {
            "text/plain": [
              "'Linear Regression - MAE: 0.75, MSE: 0.91, R²: 0.1398'"
            ],
            "application/vnd.google.colaboratory.intrinsic+json": {
              "type": "string"
            }
          },
          "metadata": {},
          "execution_count": 55
        }
      ],
      "source": [
        "#Evaluate Linear Regression Model\n",
        "\n",
        "from sklearn.metrics import mean_absolute_error, mean_squared_error, r2_score\n",
        "\n",
        "# Make predictions\n",
        "lr_predictions = lr_model.predict(X_test_reg)\n",
        "\n",
        "# Calculate evaluation metrics\n",
        "lr_mae = mean_absolute_error(y_test_reg, lr_predictions)\n",
        "lr_mse = mean_squared_error(y_test_reg, lr_predictions)\n",
        "lr_r2 = r2_score(y_test_reg, lr_predictions)\n",
        "\n",
        "# Display results\n",
        "f\"Linear Regression - MAE: {lr_mae:.2f}, MSE: {lr_mse:.2f}, R²: {lr_r2:.4f}\"\n"
      ]
    },
    {
      "cell_type": "code",
      "execution_count": 56,
      "metadata": {
        "colab": {
          "base_uri": "https://localhost:8080/",
          "height": 36
        },
        "id": "CDoq6WoKDVN5",
        "outputId": "995d2adf-6a98-4c85-ff8d-760d319e96d8"
      },
      "outputs": [
        {
          "output_type": "execute_result",
          "data": {
            "text/plain": [
              "'Random Forest Regressor - MAE: 0.69, MSE: 0.88, R²: 0.1714'"
            ],
            "application/vnd.google.colaboratory.intrinsic+json": {
              "type": "string"
            }
          },
          "metadata": {},
          "execution_count": 56
        }
      ],
      "source": [
        "#Evaluate Random Forest Regressor\n",
        "\n",
        "# Make predictions\n",
        "rf_predictions = rf_model.predict(X_test_reg)\n",
        "\n",
        "# Calculate evaluation metrics\n",
        "rf_mae = mean_absolute_error(y_test_reg, rf_predictions)\n",
        "rf_mse = mean_squared_error(y_test_reg, rf_predictions)\n",
        "rf_r2 = r2_score(y_test_reg, rf_predictions)\n",
        "\n",
        "# Display results\n",
        "f\"Random Forest Regressor - MAE: {rf_mae:.2f}, MSE: {rf_mse:.2f}, R²: {rf_r2:.4f}\"\n"
      ]
    },
    {
      "cell_type": "markdown",
      "metadata": {
        "id": "RU_H2VIoEHmb"
      },
      "source": [
        "*Regression Model Comparison*"
      ]
    },
    {
      "cell_type": "code",
      "execution_count": 57,
      "metadata": {
        "colab": {
          "base_uri": "https://localhost:8080/",
          "height": 410
        },
        "id": "19RDro6bEhML",
        "outputId": "44914e4f-4673-4189-db9c-ddc394d1b536"
      },
      "outputs": [
        {
          "output_type": "display_data",
          "data": {
            "text/plain": [
              "<Figure size 600x400 with 1 Axes>"
            ],
            "image/png": "[encoded data removed]"
          },
          "metadata": {}
        }
      ],
      "source": [
        "#Scatter Plot - Actual vs. Predicted (Linear Regression)\n",
        "import matplotlib.pyplot as plt\n",
        "\n",
        "# Scatter plot for Linear Regression\n",
        "plt.figure(figsize=(6, 4))\n",
        "plt.scatter(y_test_reg, lr_predictions, alpha=0.5, label=\"Predictions\", color=\"blue\")\n",
        "plt.plot(y_test_reg, y_test_reg, color=\"red\", linestyle=\"--\", label=\"Perfect Prediction\")\n",
        "plt.xlabel(\"Actual Offender Age\")\n",
        "plt.ylabel(\"Predicted Offender Age\")\n",
        "plt.title(\"Linear Regression: Actual vs. Predicted\")\n",
        "plt.legend()\n",
        "plt.show()\n"
      ]
    },
    {
      "cell_type": "code",
      "execution_count": 58,
      "metadata": {
        "colab": {
          "base_uri": "https://localhost:8080/",
          "height": 410
        },
        "id": "7CKQ5-pkEuR7",
        "outputId": "864b872b-24d7-47d1-9f5e-d6641dff4d0e"
      },
      "outputs": [
        {
          "output_type": "display_data",
          "data": {
            "text/plain": [
              "<Figure size 600x400 with 1 Axes>"
            ],
            "image/png": "[encoded data removed]"
          },
          "metadata": {}
        }
      ],
      "source": [
        "#Scatter Plot: Actual vs. Predicted (Random Forest Regressor)\n",
        "\n",
        "# Scatter plot for Random Forest Regressor\n",
        "plt.figure(figsize=(6, 4))\n",
        "plt.scatter(y_test_reg, rf_predictions, alpha=0.5, label=\"Predictions\", color=\"green\")\n",
        "plt.plot(y_test_reg, y_test_reg, color=\"red\", linestyle=\"--\", label=\"Perfect Prediction\")\n",
        "plt.xlabel(\"Actual Offender Age\")\n",
        "plt.ylabel(\"Predicted Offender Age\")\n",
        "plt.title(\"Random Forest Regressor: Actual vs. Predicted\")\n",
        "plt.legend()\n",
        "plt.show()\n"
      ]
    },
    {
      "cell_type": "markdown",
      "metadata": {
        "id": "qLvWBb55Ffne"
      },
      "source": [
        "**Hyperparameter Tuning for Random Forest Regressor**"
      ]
    },
    {
      "cell_type": "code",
      "execution_count": 59,
      "metadata": {
        "colab": {
          "base_uri": "https://localhost:8080/"
        },
        "id": "3ApQw9PJD4DM",
        "outputId": "130eca70-ae99-4653-b66d-21195dc20261"
      },
      "outputs": [
        {
          "output_type": "stream",
          "name": "stdout",
          "text": [
            "Fitting 5 folds for each of 81 candidates, totalling 405 fits\n"
          ]
        },
        {
          "output_type": "execute_result",
          "data": {
            "text/plain": [
              "{'max_depth': 10,\n",
              " 'min_samples_leaf': 1,\n",
              " 'min_samples_split': 2,\n",
              " 'n_estimators': 200}"
            ]
          },
          "metadata": {},
          "execution_count": 59
        }
      ],
      "source": [
        "from sklearn.model_selection import GridSearchCV\n",
        "\n",
        "# Define the parameter grid\n",
        "param_grid = {\n",
        "    \"n_estimators\": [50, 100, 200],  # Number of trees in the forest\n",
        "    \"max_depth\": [10, 20, None],  # Maximum depth of each tree\n",
        "    \"min_samples_split\": [2, 5, 10],  # Minimum number of samples required to split a node\n",
        "    \"min_samples_leaf\": [1, 2, 4],  # Minimum number of samples required at a leaf node\n",
        "}\n",
        "\n",
        "# Initialize Random Forest Regressor\n",
        "rf_tuned = RandomForestRegressor(random_state=42)\n",
        "\n",
        "# Perform GridSearchCV\n",
        "grid_search = GridSearchCV(rf_tuned, param_grid, cv=5, scoring=\"r2\", n_jobs=-1, verbose=1)\n",
        "grid_search.fit(X_train_reg, y_train_reg)\n",
        "\n",
        "# Display the best hyperparameters\n",
        "grid_search.best_params_\n"
      ]
    },
    {
      "cell_type": "markdown",
      "metadata": {
        "id": "ROXjAHx9HFvD"
      },
      "source": [
        "*Retrain Random Forest Regressor with Best Parameters*"
      ]
    },
    {
      "cell_type": "code",
      "execution_count": 60,
      "metadata": {
        "colab": {
          "base_uri": "https://localhost:8080/",
          "height": 36
        },
        "id": "p_csUA1CFnB6",
        "outputId": "20eb2697-33ec-47bd-f318-bf555246713a"
      },
      "outputs": [
        {
          "output_type": "execute_result",
          "data": {
            "text/plain": [
              "'Optimized Random Forest Regressor trained successfully.'"
            ],
            "application/vnd.google.colaboratory.intrinsic+json": {
              "type": "string"
            }
          },
          "metadata": {},
          "execution_count": 60
        }
      ],
      "source": [
        "# Initialize Random Forest with the best parameters\n",
        "rf_best = RandomForestRegressor(\n",
        "    max_depth=10,\n",
        "    min_samples_leaf=1,\n",
        "    min_samples_split=2,\n",
        "    n_estimators=200,\n",
        "    random_state=42\n",
        ")\n",
        "\n",
        "# Train the optimized model\n",
        "rf_best.fit(X_train_reg, y_train_reg)\n",
        "\n",
        "# Display completion message\n",
        "\"Optimized Random Forest Regressor trained successfully.\"\n"
      ]
    },
    {
      "cell_type": "markdown",
      "metadata": {
        "id": "pILFQuULHTOV"
      },
      "source": [
        "*Evaluate Optimized Random Forest Regressor*"
      ]
    },
    {
      "cell_type": "code",
      "execution_count": 61,
      "metadata": {
        "colab": {
          "base_uri": "https://localhost:8080/",
          "height": 36
        },
        "id": "1uLtvwtxHII1",
        "outputId": "c9c66665-8e47-417f-c041-4e66ccfb7184"
      },
      "outputs": [
        {
          "output_type": "execute_result",
          "data": {
            "text/plain": [
              "'Optimized Random Forest - MAE: 0.69, MSE: 0.82, R²: 0.2271'"
            ],
            "application/vnd.google.colaboratory.intrinsic+json": {
              "type": "string"
            }
          },
          "metadata": {},
          "execution_count": 61
        }
      ],
      "source": [
        "from sklearn.metrics import mean_absolute_error, mean_squared_error, r2_score\n",
        "\n",
        "# Make predictions with optimized model\n",
        "rf_best_predictions = rf_best.predict(X_test_reg)\n",
        "\n",
        "# Calculate evaluation metrics\n",
        "rf_best_mae = mean_absolute_error(y_test_reg, rf_best_predictions)\n",
        "rf_best_mse = mean_squared_error(y_test_reg, rf_best_predictions)\n",
        "rf_best_r2 = r2_score(y_test_reg, rf_best_predictions)\n",
        "\n",
        "# Display results\n",
        "f\"Optimized Random Forest - MAE: {rf_best_mae:.2f}, MSE: {rf_best_mse:.2f}, R²: {rf_best_r2:.4f}\"\n"
      ]
    },
    {
      "cell_type": "markdown",
      "metadata": {
        "id": "H4lOqy0NHeDl"
      },
      "source": [
        "Performance Comparison\n",
        "\n",
        "MSE Improved → From 0.88 to 0.82 (better accuracy).\n",
        "R² Score Improved → From 0.1714 to 0.2271 (22.71% variance explained instead of 17.14%).\n",
        "\n",
        "MAE Remains the Same → Predictions are still 0.69 years off on average.\n"
      ]
    },
    {
      "cell_type": "markdown",
      "metadata": {
        "id": "BDxWFMwwHka0"
      },
      "source": [
        "*Visualization – Before vs. After Tuning*"
      ]
    },
    {
      "cell_type": "code",
      "execution_count": 62,
      "metadata": {
        "colab": {
          "base_uri": "https://localhost:8080/",
          "height": 410
        },
        "id": "4eRKpKbxHiy8",
        "outputId": "79f84bfb-926e-4551-8717-a03adb0c9350"
      },
      "outputs": [
        {
          "output_type": "display_data",
          "data": {
            "text/plain": [
              "<Figure size 600x400 with 1 Axes>"
            ],
            "image/png": "[encoded data removed]"
          },
          "metadata": {}
        }
      ],
      "source": [
        "# Scatter Plot – Actual vs. Predicted (Optimized RF)\n",
        "import matplotlib.pyplot as plt\n",
        "\n",
        "# Scatter plot for Optimized Random Forest\n",
        "plt.figure(figsize=(6, 4))\n",
        "plt.scatter(y_test_reg, rf_best_predictions, alpha=0.5, label=\"Predictions\", color=\"purple\")\n",
        "plt.plot(y_test_reg, y_test_reg, color=\"red\", linestyle=\"--\", label=\"Perfect Prediction\")\n",
        "plt.xlabel(\"Actual Offender Age\")\n",
        "plt.ylabel(\"Predicted Offender Age\")\n",
        "plt.title(\"Optimized Random Forest: Actual vs. Predicted\")\n",
        "plt.legend()\n",
        "plt.show()\n"
      ]
    },
    {
      "cell_type": "markdown",
      "metadata": {
        "id": "qDRO9syyHvWT"
      },
      "source": [
        "*Compare Errors – Before vs. After Tuning*"
      ]
    },
    {
      "cell_type": "code",
      "execution_count": 63,
      "metadata": {
        "colab": {
          "base_uri": "https://localhost:8080/",
          "height": 410
        },
        "id": "ETrPhhxbHXI7",
        "outputId": "74308e05-57cf-423f-a968-1005bc40ea5f"
      },
      "outputs": [
        {
          "output_type": "display_data",
          "data": {
            "text/plain": [
              "<Figure size 600x400 with 1 Axes>"
            ],
            "image/png": "[encoded data removed]"
          },
          "metadata": {}
        }
      ],
      "source": [
        "import numpy as np\n",
        "\n",
        "# Create a bar chart to compare errors\n",
        "labels = [\"MAE\", \"MSE\", \"R² Score\"]\n",
        "before_tuning = [0.69, 0.88, 0.1714]\n",
        "after_tuning = [0.69, 0.82, 0.2271]\n",
        "\n",
        "x = np.arange(len(labels))  # Label locations\n",
        "width = 0.35  # Bar width\n",
        "\n",
        "fig, ax = plt.subplots(figsize=(6, 4))\n",
        "rects1 = ax.bar(x - width/2, before_tuning, width, label=\"Before Tuning\", color=\"blue\")\n",
        "rects2 = ax.bar(x + width/2, after_tuning, width, label=\"After Tuning\", color=\"green\")\n",
        "\n",
        "ax.set_xlabel(\"Metrics\")\n",
        "ax.set_ylabel(\"Values\")\n",
        "ax.set_title(\"Error Comparison: Before vs. After Tuning\")\n",
        "ax.set_xticks(x)\n",
        "ax.set_xticklabels(labels)\n",
        "ax.legend()\n",
        "\n",
        "plt.show()\n"
      ]
    },
    {
      "cell_type": "markdown",
      "metadata": {
        "id": "sQ1di3FPIZsb"
      },
      "source": [
        "*Feature Importance Using Random Forest*"
      ]
    },
    {
      "cell_type": "code",
      "execution_count": 64,
      "metadata": {
        "colab": {
          "base_uri": "https://localhost:8080/",
          "height": 1000
        },
        "id": "DilWEi6nHx5c",
        "outputId": "83b4d436-7ccb-47f8-cd9a-49e5345ca2ca"
      },
      "outputs": [
        {
          "output_type": "display_data",
          "data": {
            "text/plain": [
              "<Figure size 800x500 with 1 Axes>"
            ],
            "image/png": "[encoded data removed]"
          },
          "metadata": {}
        },
        {
          "output_type": "execute_result",
          "data": {
            "text/plain": [
              "Victim_Age                                                 0.549699\n",
              "Victim_Gender_MALE                                         0.066367\n",
              "Report Type_Supplemental Report                            0.063217\n",
              "Category_Theft                                             0.049046\n",
              "Disposition_OPEN                                           0.037695\n",
              "Victim_Race_WHITE                                          0.036141\n",
              "Offender_Race_WHITE                                        0.035751\n",
              "Victim_Race_BLACK                                          0.033686\n",
              "Category_Violence                                          0.029660\n",
              "Offender_Race_BLACK                                        0.024855\n",
              "Category_Miscellaneous                                     0.022947\n",
              "Category_Vandalism                                         0.017313\n",
              "Victim_Race_UNKNOWN                                        0.016733\n",
              "Offender_Race_UNKNOWN                                      0.004967\n",
              "Victim_Race_ASIAN                                          0.004780\n",
              "Victim_Fatal_Status_Non-fatal                              0.002619\n",
              "Offender_Race_ASIAN                                        0.001769\n",
              "PersonType_VICTIM                                          0.001044\n",
              "PersonType_REPORTING PERSON                                0.000768\n",
              "Victim_Gender_UNKNOWN                                      0.000589\n",
              "Offender_Race_NATIVE HAWAIIAN OR OTHER PACIFIC ISLANDER    0.000278\n",
              "Category_Sexual Crimes                                     0.000054\n",
              "Victim_Race_NATIVE HAWAIIAN OR OTHER PACIFIC ISLANDER      0.000022\n",
              "dtype: float64"
            ],
            "text/html": [
              "<div>\n",
              "<style scoped>\n",
              "    .dataframe tbody tr th:only-of-type {\n",
              "        vertical-align: middle;\n",
              "    }\n",
              "\n",
              "    .dataframe tbody tr th {\n",
              "        vertical-align: top;\n",
              "    }\n",
              "\n",
              "    .dataframe thead th {\n",
              "        text-align: right;\n",
              "    }\n",
              "</style>\n",
              "<table border=\"1\" class=\"dataframe\">\n",
              "  <thead>\n",
              "    <tr style=\"text-align: right;\">\n",
              "      <th></th>\n",
              "      <th>0</th>\n",
              "    </tr>\n",
              "  </thead>\n",
              "  <tbody>\n",
              "    <tr>\n",
              "      <th>Victim_Age</th>\n",
              "      <td>0.549699</td>\n",
              "    </tr>\n",
              "    <tr>\n",
              "      <th>Victim_Gender_MALE</th>\n",
              "      <td>0.066367</td>\n",
              "    </tr>\n",
              "    <tr>\n",
              "      <th>Report Type_Supplemental Report</th>\n",
              "      <td>0.063217</td>\n",
              "    </tr>\n",
              "    <tr>\n",
              "      <th>Category_Theft</th>\n",
              "      <td>0.049046</td>\n",
              "    </tr>\n",
              "    <tr>\n",
              "      <th>Disposition_OPEN</th>\n",
              "      <td>0.037695</td>\n",
              "    </tr>\n",
              "    <tr>\n",
              "      <th>Victim_Race_WHITE</th>\n",
              "      <td>0.036141</td>\n",
              "    </tr>\n",
              "    <tr>\n",
              "      <th>Offender_Race_WHITE</th>\n",
              "      <td>0.035751</td>\n",
              "    </tr>\n",
              "    <tr>\n",
              "      <th>Victim_Race_BLACK</th>\n",
              "      <td>0.033686</td>\n",
              "    </tr>\n",
              "    <tr>\n",
              "      <th>Category_Violence</th>\n",
              "      <td>0.029660</td>\n",
              "    </tr>\n",
              "    <tr>\n",
              "      <th>Offender_Race_BLACK</th>\n",
              "      <td>0.024855</td>\n",
              "    </tr>\n",
              "    <tr>\n",
              "      <th>Category_Miscellaneous</th>\n",
              "      <td>0.022947</td>\n",
              "    </tr>\n",
              "    <tr>\n",
              "      <th>Category_Vandalism</th>\n",
              "      <td>0.017313</td>\n",
              "    </tr>\n",
              "    <tr>\n",
              "      <th>Victim_Race_UNKNOWN</th>\n",
              "      <td>0.016733</td>\n",
              "    </tr>\n",
              "    <tr>\n",
              "      <th>Offender_Race_UNKNOWN</th>\n",
              "      <td>0.004967</td>\n",
              "    </tr>\n",
              "    <tr>\n",
              "      <th>Victim_Race_ASIAN</th>\n",
              "      <td>0.004780</td>\n",
              "    </tr>\n",
              "    <tr>\n",
              "      <th>Victim_Fatal_Status_Non-fatal</th>\n",
              "      <td>0.002619</td>\n",
              "    </tr>\n",
              "    <tr>\n",
              "      <th>Offender_Race_ASIAN</th>\n",
              "      <td>0.001769</td>\n",
              "    </tr>\n",
              "    <tr>\n",
              "      <th>PersonType_VICTIM</th>\n",
              "      <td>0.001044</td>\n",
              "    </tr>\n",
              "    <tr>\n",
              "      <th>PersonType_REPORTING PERSON</th>\n",
              "      <td>0.000768</td>\n",
              "    </tr>\n",
              "    <tr>\n",
              "      <th>Victim_Gender_UNKNOWN</th>\n",
              "      <td>0.000589</td>\n",
              "    </tr>\n",
              "    <tr>\n",
              "      <th>Offender_Race_NATIVE HAWAIIAN OR OTHER PACIFIC ISLANDER</th>\n",
              "      <td>0.000278</td>\n",
              "    </tr>\n",
              "    <tr>\n",
              "      <th>Category_Sexual Crimes</th>\n",
              "      <td>0.000054</td>\n",
              "    </tr>\n",
              "    <tr>\n",
              "      <th>Victim_Race_NATIVE HAWAIIAN OR OTHER PACIFIC ISLANDER</th>\n",
              "      <td>0.000022</td>\n",
              "    </tr>\n",
              "  </tbody>\n",
              "</table>\n",
              "</div><br><label><b>dtype:</b> float64</label>"
            ]
          },
          "metadata": {},
          "execution_count": 64
        }
      ],
      "source": [
        "import pandas as pd\n",
        "import matplotlib.pyplot as plt\n",
        "\n",
        "# Get feature importance scores\n",
        "feature_importance = pd.Series(rf_best.feature_importances_, index=X_train_reg.columns)\n",
        "\n",
        "# Sort and visualize top features\n",
        "plt.figure(figsize=(8, 5))\n",
        "feature_importance.sort_values(ascending=False).head(10).plot(kind=\"bar\", color=\"teal\")\n",
        "plt.title(\"Top 10 Most Important Features for Offender Age Prediction\")\n",
        "plt.xlabel(\"Features\")\n",
        "plt.ylabel(\"Importance Score\")\n",
        "plt.show()\n",
        "\n",
        "# Display sorted feature importance values\n",
        "feature_importance.sort_values(ascending=False)\n"
      ]
    },
    {
      "cell_type": "markdown",
      "metadata": {
        "id": "gINhzq-9I2kW"
      },
      "source": [
        "*Remove Low-Importance Features*"
      ]
    },
    {
      "cell_type": "code",
      "execution_count": 65,
      "metadata": {
        "colab": {
          "base_uri": "https://localhost:8080/"
        },
        "id": "GOdUg7huIiE6",
        "outputId": "f60103a1-53b8-4e4b-8438-3392b3863a3f"
      },
      "outputs": [
        {
          "output_type": "execute_result",
          "data": {
            "text/plain": [
              "((5310, 18), (1328, 18))"
            ]
          },
          "metadata": {},
          "execution_count": 65
        }
      ],
      "source": [
        "# Define threshold for feature selection (removing features with importance < 0.001)\n",
        "low_importance_features = [\n",
        "    \"Victim_Race_NATIVE HAWAIIAN OR OTHER PACIFIC ISLANDER\",\n",
        "    \"Category_Sexual Crimes\",\n",
        "    \"Offender_Race_NATIVE HAWAIIAN OR OTHER PACIFIC ISLANDER\",\n",
        "    \"Victim_Gender_UNKNOWN\",\n",
        "    \"PersonType_REPORTING PERSON\"\n",
        "]\n",
        "\n",
        "# Drop low-importance features from training and test sets\n",
        "X_train_reg_selected = X_train_reg.drop(columns=low_importance_features)\n",
        "X_test_reg_selected = X_test_reg.drop(columns=low_importance_features)\n",
        "\n",
        "# Display new feature set shape\n",
        "X_train_reg_selected.shape, X_test_reg_selected.shape\n"
      ]
    },
    {
      "cell_type": "markdown",
      "metadata": {
        "id": "W1m33wQiJIe-"
      },
      "source": [
        "*Retrain the Random Forest Regressor with Selected Features*"
      ]
    },
    {
      "cell_type": "code",
      "execution_count": 66,
      "metadata": {
        "colab": {
          "base_uri": "https://localhost:8080/",
          "height": 36
        },
        "id": "avFVTz19I5GH",
        "outputId": "e4869ee0-f830-471d-fb07-ad078541b7fb"
      },
      "outputs": [
        {
          "output_type": "execute_result",
          "data": {
            "text/plain": [
              "'Random Forest Regressor retrained with selected features.'"
            ],
            "application/vnd.google.colaboratory.intrinsic+json": {
              "type": "string"
            }
          },
          "metadata": {},
          "execution_count": 66
        }
      ],
      "source": [
        "# Initialize Random Forest with best hyperparameters\n",
        "rf_selected = RandomForestRegressor(\n",
        "    max_depth=10,\n",
        "    min_samples_leaf=1,\n",
        "    min_samples_split=2,\n",
        "    n_estimators=200,\n",
        "    random_state=42\n",
        ")\n",
        "\n",
        "# Train the optimized model with selected features\n",
        "rf_selected.fit(X_train_reg_selected, y_train_reg)\n",
        "\n",
        "# Display completion message\n",
        "\"Random Forest Regressor retrained with selected features.\"\n"
      ]
    },
    {
      "cell_type": "markdown",
      "metadata": {
        "id": "-z0oYhHNJQoU"
      },
      "source": [
        "*Evaluate Random Forest Regressor with Selected Features*"
      ]
    },
    {
      "cell_type": "code",
      "execution_count": 67,
      "metadata": {
        "colab": {
          "base_uri": "https://localhost:8080/",
          "height": 36
        },
        "id": "r7lm0YaWJKeh",
        "outputId": "915b7022-3070-43f6-a484-0cdd8ac32baa"
      },
      "outputs": [
        {
          "output_type": "execute_result",
          "data": {
            "text/plain": [
              "'Retrained Random Forest - MAE: 0.69, MSE: 0.82, R²: 0.2259'"
            ],
            "application/vnd.google.colaboratory.intrinsic+json": {
              "type": "string"
            }
          },
          "metadata": {},
          "execution_count": 67
        }
      ],
      "source": [
        "from sklearn.metrics import mean_absolute_error, mean_squared_error, r2_score\n",
        "\n",
        "# Make predictions with the retrained model\n",
        "rf_selected_predictions = rf_selected.predict(X_test_reg_selected)\n",
        "\n",
        "# Calculate evaluation metrics\n",
        "rf_selected_mae = mean_absolute_error(y_test_reg, rf_selected_predictions)\n",
        "rf_selected_mse = mean_squared_error(y_test_reg, rf_selected_predictions)\n",
        "rf_selected_r2 = r2_score(y_test_reg, rf_selected_predictions)\n",
        "\n",
        "# Display results\n",
        "f\"Retrained Random Forest - MAE: {rf_selected_mae:.2f}, MSE: {rf_selected_mse:.2f}, R²: {rf_selected_r2:.4f}\"\n"
      ]
    },
    {
      "cell_type": "code",
      "execution_count": 68,
      "metadata": {
        "colab": {
          "base_uri": "https://localhost:8080/",
          "height": 36
        },
        "id": "e_4Lxl-MJSk4",
        "outputId": "565c17f0-22b9-4dd6-ed51-1102366fcbeb"
      },
      "outputs": [
        {
          "output_type": "execute_result",
          "data": {
            "text/plain": [
              "'Final Random Forest Regressor model saved successfully.'"
            ],
            "application/vnd.google.colaboratory.intrinsic+json": {
              "type": "string"
            }
          },
          "metadata": {},
          "execution_count": 68
        }
      ],
      "source": [
        "import joblib\n",
        "\n",
        "# Save the retrained Random Forest model\n",
        "joblib.dump(rf_selected, \"/content/drive/MyDrive/3rd sem/final_random_forest_offender_age.pkl\")\n",
        "\n",
        "# Display completion message\n",
        "\"Final Random Forest Regressor model saved successfully.\"\n"
      ]
    },
    {
      "cell_type": "markdown",
      "metadata": {
        "id": "MER_xRz4JwWR"
      },
      "source": [
        "**Train-Test Split for Classification**"
      ]
    },
    {
      "cell_type": "code",
      "execution_count": 69,
      "metadata": {
        "colab": {
          "base_uri": "https://localhost:8080/"
        },
        "id": "lQD7eUCNJkGV",
        "outputId": "173ccc0d-46ba-4af5-a398-3a26d20344f3"
      },
      "outputs": [
        {
          "output_type": "execute_result",
          "data": {
            "text/plain": [
              "((5310, 24), (1328, 24), (5310,), (1328,))"
            ]
          },
          "metadata": {},
          "execution_count": 69
        }
      ],
      "source": [
        "# Display shape of training and testing sets for classification\n",
        "X_train_cls.shape, X_test_cls.shape, y_train_cls.shape, y_test_cls.shape\n"
      ]
    },
    {
      "cell_type": "markdown",
      "metadata": {
        "id": "Mjs_39dcJ8rw"
      },
      "source": [
        "***Train Classification Models***"
      ]
    },
    {
      "cell_type": "markdown",
      "metadata": {
        "id": "Vdh9vvaMKKu9"
      },
      "source": [
        "Issue: Non-Numeric Feature (OffenderStatus) in Classification Data"
      ]
    },
    {
      "cell_type": "code",
      "execution_count": 70,
      "metadata": {
        "id": "Xjsa-XPfJ1QD",
        "colab": {
          "base_uri": "https://localhost:8080/"
        },
        "outputId": "2bd940bd-a508-4018-89e2-c56b2cf0e0d0"
      },
      "outputs": [
        {
          "output_type": "execute_result",
          "data": {
            "text/plain": [
              "((5310, 23), (1328, 23))"
            ]
          },
          "metadata": {},
          "execution_count": 70
        }
      ],
      "source": [
        "# Drop 'OffenderStatus' since it has only one unique value\n",
        "X_train_cls = X_train_cls.drop(columns=[\"OffenderStatus\"])\n",
        "X_test_cls = X_test_cls.drop(columns=[\"OffenderStatus\"])\n",
        "\n",
        "# Display new feature set shape\n",
        "X_train_cls.shape, X_test_cls.shape\n"
      ]
    },
    {
      "cell_type": "markdown",
      "metadata": {
        "id": "O5xEVcRzKUXn"
      },
      "source": [
        "Before Fix: 24 features\n",
        "After Fix (Dropped OffenderStatus): 23 features\n",
        "Dataset is now fully numeric and ready for training.\n",
        "\n"
      ]
    },
    {
      "cell_type": "markdown",
      "metadata": {
        "id": "MfURihnUKsGq"
      },
      "source": [
        "***LinearLogistic***"
      ]
    },
    {
      "cell_type": "code",
      "execution_count": 71,
      "metadata": {
        "id": "AGg9xu2gKB7i",
        "colab": {
          "base_uri": "https://localhost:8080/",
          "height": 36
        },
        "outputId": "1976c261-7b61-4398-b69a-baed26b1a8ca"
      },
      "outputs": [
        {
          "output_type": "execute_result",
          "data": {
            "text/plain": [
              "'Logistic Regression model trained successfully.'"
            ],
            "application/vnd.google.colaboratory.intrinsic+json": {
              "type": "string"
            }
          },
          "metadata": {},
          "execution_count": 71
        }
      ],
      "source": [
        "from sklearn.linear_model import LogisticRegression\n",
        "\n",
        "# Initialize Logistic Regression model\n",
        "log_reg = LogisticRegression(max_iter=500, random_state=42)\n",
        "\n",
        "# Train the model\n",
        "log_reg.fit(X_train_cls, y_train_cls)\n",
        "\n",
        "# Display completion message\n",
        "\"Logistic Regression model trained successfully.\"\n"
      ]
    },
    {
      "cell_type": "markdown",
      "metadata": {
        "id": "h-bHNPV7Ky_Q"
      },
      "source": [
        "***Train Random Forest Classifier***"
      ]
    },
    {
      "cell_type": "code",
      "execution_count": 72,
      "metadata": {
        "id": "HHi2Z12VKxzM",
        "colab": {
          "base_uri": "https://localhost:8080/",
          "height": 36
        },
        "outputId": "07a4322a-5fb3-4c73-b20d-c56090c922b8"
      },
      "outputs": [
        {
          "output_type": "execute_result",
          "data": {
            "text/plain": [
              "'Random Forest Classifier model trained successfully.'"
            ],
            "application/vnd.google.colaboratory.intrinsic+json": {
              "type": "string"
            }
          },
          "metadata": {},
          "execution_count": 72
        }
      ],
      "source": [
        "from sklearn.ensemble import RandomForestClassifier\n",
        "\n",
        "# Initialize Random Forest Classifier model\n",
        "rf_classifier = RandomForestClassifier(n_estimators=100, random_state=42)\n",
        "\n",
        "# Train the model\n",
        "rf_classifier.fit(X_train_cls, y_train_cls)\n",
        "\n",
        "# Display completion message\n",
        "\"Random Forest Classifier model trained successfully.\"\n"
      ]
    },
    {
      "cell_type": "markdown",
      "metadata": {
        "id": "sXvN9S2uLASg"
      },
      "source": [
        "*Evaluate Classification Models*"
      ]
    },
    {
      "cell_type": "code",
      "execution_count": 73,
      "metadata": {
        "id": "URdSEbULKcQX",
        "colab": {
          "base_uri": "https://localhost:8080/",
          "height": 36
        },
        "outputId": "3abac491-cdce-4507-ae0d-a5b03848ed9c"
      },
      "outputs": [
        {
          "output_type": "execute_result",
          "data": {
            "text/plain": [
              "'Logistic Regression - Accuracy: 0.7538'"
            ],
            "application/vnd.google.colaboratory.intrinsic+json": {
              "type": "string"
            }
          },
          "metadata": {},
          "execution_count": 73
        }
      ],
      "source": [
        "from sklearn.metrics import accuracy_score, classification_report, confusion_matrix\n",
        "\n",
        "# Make predictions\n",
        "log_reg_predictions = log_reg.predict(X_test_cls)\n",
        "\n",
        "# Calculate accuracy\n",
        "log_reg_accuracy = accuracy_score(y_test_cls, log_reg_predictions)\n",
        "\n",
        "# Generate classification report\n",
        "log_reg_report = classification_report(y_test_cls, log_reg_predictions)\n",
        "\n",
        "# Generate confusion matrix\n",
        "log_reg_cm = confusion_matrix(y_test_cls, log_reg_predictions)\n",
        "\n",
        "# Display results\n",
        "f\"Logistic Regression - Accuracy: {log_reg_accuracy:.4f}\"\n"
      ]
    },
    {
      "cell_type": "markdown",
      "metadata": {
        "id": "vTTGaH5bLRHG"
      },
      "source": [
        "*Detailed Classification Report & Confusion Matrix*"
      ]
    },
    {
      "cell_type": "code",
      "execution_count": 74,
      "metadata": {
        "id": "MYdRwScbLDN2",
        "colab": {
          "base_uri": "https://localhost:8080/"
        },
        "outputId": "be3019de-3411-4799-f571-4a3633db6d47"
      },
      "outputs": [
        {
          "output_type": "stream",
          "name": "stdout",
          "text": [
            "Logistic Regression - Classification Report:\n",
            "              precision    recall  f1-score   support\n",
            "\n",
            "       False       0.40      0.02      0.04       324\n",
            "        True       0.76      0.99      0.86      1004\n",
            "\n",
            "    accuracy                           0.75      1328\n",
            "   macro avg       0.58      0.50      0.45      1328\n",
            "weighted avg       0.67      0.75      0.66      1328\n",
            "\n",
            "Logistic Regression - Confusion Matrix:\n",
            "[[  6 318]\n",
            " [  9 995]]\n"
          ]
        }
      ],
      "source": [
        "# Display classification report\n",
        "print(\"Logistic Regression - Classification Report:\")\n",
        "print(log_reg_report)\n",
        "\n",
        "# Display confusion matrix\n",
        "print(\"Logistic Regression - Confusion Matrix:\")\n",
        "print(log_reg_cm)\n"
      ]
    },
    {
      "cell_type": "markdown",
      "metadata": {
        "id": "a1klJta4Lvif"
      },
      "source": [
        "*Evaluate Random Forest Classifier*"
      ]
    },
    {
      "cell_type": "code",
      "execution_count": 75,
      "metadata": {
        "id": "cjOonT0vLTFa",
        "colab": {
          "base_uri": "https://localhost:8080/",
          "height": 36
        },
        "outputId": "07e0d52e-be38-489f-a54e-da85a315d05e"
      },
      "outputs": [
        {
          "output_type": "execute_result",
          "data": {
            "text/plain": [
              "'Random Forest Classifier - Accuracy: 0.7575'"
            ],
            "application/vnd.google.colaboratory.intrinsic+json": {
              "type": "string"
            }
          },
          "metadata": {},
          "execution_count": 75
        }
      ],
      "source": [
        "# Make predictions\n",
        "rf_predictions = rf_classifier.predict(X_test_cls)\n",
        "\n",
        "# Calculate accuracy\n",
        "rf_accuracy = accuracy_score(y_test_cls, rf_predictions)\n",
        "\n",
        "# Generate classification report\n",
        "rf_report = classification_report(y_test_cls, rf_predictions)\n",
        "\n",
        "# Generate confusion matrix\n",
        "rf_cm = confusion_matrix(y_test_cls, rf_predictions)\n",
        "\n",
        "# Display results\n",
        "f\"Random Forest Classifier - Accuracy: {rf_accuracy:.4f}\"\n"
      ]
    },
    {
      "cell_type": "markdown",
      "metadata": {
        "id": "VJ5IFmm0L7rj"
      },
      "source": [
        "This means Random Forest correctly predicts Offender_Gender 75.75% of the time, which is slightly better than Logistic Regression (75.38%)."
      ]
    },
    {
      "cell_type": "markdown",
      "metadata": {
        "id": "-eo-q8PpL9f-"
      },
      "source": [
        "*Detailed Classification Report & Confusion Matrix (Random forest classifier)*"
      ]
    },
    {
      "cell_type": "code",
      "execution_count": 76,
      "metadata": {
        "id": "ErzxwLBLLydi",
        "colab": {
          "base_uri": "https://localhost:8080/"
        },
        "outputId": "c974ea85-44cc-4c82-f64f-d2377e3ebe5b"
      },
      "outputs": [
        {
          "output_type": "stream",
          "name": "stdout",
          "text": [
            "Random Forest Classifier - Classification Report:\n",
            "              precision    recall  f1-score   support\n",
            "\n",
            "       False       0.50      0.39      0.44       324\n",
            "        True       0.82      0.88      0.85      1004\n",
            "\n",
            "    accuracy                           0.76      1328\n",
            "   macro avg       0.66      0.63      0.64      1328\n",
            "weighted avg       0.74      0.76      0.75      1328\n",
            "\n",
            "Random Forest Classifier - Confusion Matrix:\n",
            "[[127 197]\n",
            " [125 879]]\n"
          ]
        }
      ],
      "source": [
        "# Display classification report\n",
        "print(\"Random Forest Classifier - Classification Report:\")\n",
        "print(rf_report)\n",
        "\n",
        "# Display confusion matrix\n",
        "print(\"Random Forest Classifier - Confusion Matrix:\")\n",
        "print(rf_cm)\n"
      ]
    },
    {
      "cell_type": "markdown",
      "metadata": {
        "id": "pz-ccXNxMsS-"
      },
      "source": [
        "*Feature Selection Using Random Forest*"
      ]
    },
    {
      "cell_type": "code",
      "execution_count": 77,
      "metadata": {
        "id": "3woUGRdPMDP2",
        "colab": {
          "base_uri": "https://localhost:8080/",
          "height": 1000
        },
        "outputId": "98bbbd44-164e-4e6b-9bbf-943ebf050b73"
      },
      "outputs": [
        {
          "output_type": "display_data",
          "data": {
            "text/plain": [
              "<Figure size 800x500 with 1 Axes>"
            ],
            "image/png": "[encoded data removed]"
          },
          "metadata": {}
        },
        {
          "output_type": "execute_result",
          "data": {
            "text/plain": [
              "Victim_Age                                                 0.718700\n",
              "Report Type_Supplemental Report                            0.052956\n",
              "Victim_Gender_MALE                                         0.052462\n",
              "Disposition_OPEN                                           0.024572\n",
              "Category_Violence                                          0.018571\n",
              "Category_Theft                                             0.017750\n",
              "Victim_Race_BLACK                                          0.017289\n",
              "Category_Miscellaneous                                     0.016007\n",
              "Victim_Race_WHITE                                          0.015248\n",
              "Offender_Race_BLACK                                        0.014380\n",
              "Offender_Race_WHITE                                        0.014197\n",
              "Category_Vandalism                                         0.010309\n",
              "Victim_Race_UNKNOWN                                        0.007186\n",
              "Offender_Race_UNKNOWN                                      0.005067\n",
              "Victim_Fatal_Status_Non-fatal                              0.004090\n",
              "Victim_Race_ASIAN                                          0.003217\n",
              "Victim_Gender_UNKNOWN                                      0.002446\n",
              "Offender_Race_ASIAN                                        0.001746\n",
              "PersonType_REPORTING PERSON                                0.001498\n",
              "PersonType_VICTIM                                          0.001185\n",
              "Category_Sexual Crimes                                     0.000815\n",
              "Offender_Race_NATIVE HAWAIIAN OR OTHER PACIFIC ISLANDER    0.000240\n",
              "Victim_Race_NATIVE HAWAIIAN OR OTHER PACIFIC ISLANDER      0.000069\n",
              "dtype: float64"
            ],
            "text/html": [
              "<div>\n",
              "<style scoped>\n",
              "    .dataframe tbody tr th:only-of-type {\n",
              "        vertical-align: middle;\n",
              "    }\n",
              "\n",
              "    .dataframe tbody tr th {\n",
              "        vertical-align: top;\n",
              "    }\n",
              "\n",
              "    .dataframe thead th {\n",
              "        text-align: right;\n",
              "    }\n",
              "</style>\n",
              "<table border=\"1\" class=\"dataframe\">\n",
              "  <thead>\n",
              "    <tr style=\"text-align: right;\">\n",
              "      <th></th>\n",
              "      <th>0</th>\n",
              "    </tr>\n",
              "  </thead>\n",
              "  <tbody>\n",
              "    <tr>\n",
              "      <th>Victim_Age</th>\n",
              "      <td>0.718700</td>\n",
              "    </tr>\n",
              "    <tr>\n",
              "      <th>Report Type_Supplemental Report</th>\n",
              "      <td>0.052956</td>\n",
              "    </tr>\n",
              "    <tr>\n",
              "      <th>Victim_Gender_MALE</th>\n",
              "      <td>0.052462</td>\n",
              "    </tr>\n",
              "    <tr>\n",
              "      <th>Disposition_OPEN</th>\n",
              "      <td>0.024572</td>\n",
              "    </tr>\n",
              "    <tr>\n",
              "      <th>Category_Violence</th>\n",
              "      <td>0.018571</td>\n",
              "    </tr>\n",
              "    <tr>\n",
              "      <th>Category_Theft</th>\n",
              "      <td>0.017750</td>\n",
              "    </tr>\n",
              "    <tr>\n",
              "      <th>Victim_Race_BLACK</th>\n",
              "      <td>0.017289</td>\n",
              "    </tr>\n",
              "    <tr>\n",
              "      <th>Category_Miscellaneous</th>\n",
              "      <td>0.016007</td>\n",
              "    </tr>\n",
              "    <tr>\n",
              "      <th>Victim_Race_WHITE</th>\n",
              "      <td>0.015248</td>\n",
              "    </tr>\n",
              "    <tr>\n",
              "      <th>Offender_Race_BLACK</th>\n",
              "      <td>0.014380</td>\n",
              "    </tr>\n",
              "    <tr>\n",
              "      <th>Offender_Race_WHITE</th>\n",
              "      <td>0.014197</td>\n",
              "    </tr>\n",
              "    <tr>\n",
              "      <th>Category_Vandalism</th>\n",
              "      <td>0.010309</td>\n",
              "    </tr>\n",
              "    <tr>\n",
              "      <th>Victim_Race_UNKNOWN</th>\n",
              "      <td>0.007186</td>\n",
              "    </tr>\n",
              "    <tr>\n",
              "      <th>Offender_Race_UNKNOWN</th>\n",
              "      <td>0.005067</td>\n",
              "    </tr>\n",
              "    <tr>\n",
              "      <th>Victim_Fatal_Status_Non-fatal</th>\n",
              "      <td>0.004090</td>\n",
              "    </tr>\n",
              "    <tr>\n",
              "      <th>Victim_Race_ASIAN</th>\n",
              "      <td>0.003217</td>\n",
              "    </tr>\n",
              "    <tr>\n",
              "      <th>Victim_Gender_UNKNOWN</th>\n",
              "      <td>0.002446</td>\n",
              "    </tr>\n",
              "    <tr>\n",
              "      <th>Offender_Race_ASIAN</th>\n",
              "      <td>0.001746</td>\n",
              "    </tr>\n",
              "    <tr>\n",
              "      <th>PersonType_REPORTING PERSON</th>\n",
              "      <td>0.001498</td>\n",
              "    </tr>\n",
              "    <tr>\n",
              "      <th>PersonType_VICTIM</th>\n",
              "      <td>0.001185</td>\n",
              "    </tr>\n",
              "    <tr>\n",
              "      <th>Category_Sexual Crimes</th>\n",
              "      <td>0.000815</td>\n",
              "    </tr>\n",
              "    <tr>\n",
              "      <th>Offender_Race_NATIVE HAWAIIAN OR OTHER PACIFIC ISLANDER</th>\n",
              "      <td>0.000240</td>\n",
              "    </tr>\n",
              "    <tr>\n",
              "      <th>Victim_Race_NATIVE HAWAIIAN OR OTHER PACIFIC ISLANDER</th>\n",
              "      <td>0.000069</td>\n",
              "    </tr>\n",
              "  </tbody>\n",
              "</table>\n",
              "</div><br><label><b>dtype:</b> float64</label>"
            ]
          },
          "metadata": {},
          "execution_count": 77
        }
      ],
      "source": [
        "import pandas as pd\n",
        "import matplotlib.pyplot as plt\n",
        "\n",
        "# Get feature importance scores\n",
        "feature_importance_cls = pd.Series(rf_classifier.feature_importances_, index=X_train_cls.columns)\n",
        "\n",
        "# Sort and visualize top features\n",
        "plt.figure(figsize=(8, 5))\n",
        "feature_importance_cls.sort_values(ascending=False).head(10).plot(kind=\"bar\", color=\"teal\")\n",
        "plt.title(\"Top 10 Most Important Features for Offender Gender Prediction\")\n",
        "plt.xlabel(\"Features\")\n",
        "plt.ylabel(\"Importance Score\")\n",
        "plt.show()\n",
        "\n",
        "# Display sorted feature importance values\n",
        "feature_importance_cls.sort_values(ascending=False)\n"
      ]
    },
    {
      "cell_type": "markdown",
      "metadata": {
        "id": "CAb-2ERdNXOh"
      },
      "source": [
        "*Remove Low-Importance Features*"
      ]
    },
    {
      "cell_type": "code",
      "execution_count": 78,
      "metadata": {
        "id": "XAIwAgypNYq3",
        "colab": {
          "base_uri": "https://localhost:8080/"
        },
        "outputId": "71e64752-9599-476f-9e11-e58435de6462"
      },
      "outputs": [
        {
          "output_type": "execute_result",
          "data": {
            "text/plain": [
              "((5310, 19), (1328, 19))"
            ]
          },
          "metadata": {},
          "execution_count": 78
        }
      ],
      "source": [
        "# Define threshold for feature selection (removing features with importance < 0.001)\n",
        "low_importance_features_cls = [\n",
        "    \"Victim_Race_NATIVE HAWAIIAN OR OTHER PACIFIC ISLANDER\",\n",
        "    \"Offender_Race_NATIVE HAWAIIAN OR OTHER PACIFIC ISLANDER\",\n",
        "    \"Category_Sexual Crimes\",\n",
        "    \"PersonType_VICTIM\"\n",
        "]\n",
        "\n",
        "# Drop low-importance features from training and test sets\n",
        "X_train_cls_selected = X_train_cls.drop(columns=low_importance_features_cls)\n",
        "X_test_cls_selected = X_test_cls.drop(columns=low_importance_features_cls)\n",
        "\n",
        "# Display new feature set shape\n",
        "X_train_cls_selected.shape, X_test_cls_selected.shape\n"
      ]
    },
    {
      "cell_type": "markdown",
      "metadata": {
        "id": "gu05IPICN1bY"
      },
      "source": [
        "*Hyperparameter Tuning for Random Forest Classifier*"
      ]
    },
    {
      "cell_type": "code",
      "execution_count": 79,
      "metadata": {
        "id": "mTmz-D-oNaNp",
        "colab": {
          "base_uri": "https://localhost:8080/"
        },
        "outputId": "e52a31bf-1c11-4473-c2d0-c02a153e85e3"
      },
      "outputs": [
        {
          "output_type": "stream",
          "name": "stdout",
          "text": [
            "Fitting 5 folds for each of 81 candidates, totalling 405 fits\n"
          ]
        },
        {
          "output_type": "execute_result",
          "data": {
            "text/plain": [
              "{'max_depth': 10,\n",
              " 'min_samples_leaf': 1,\n",
              " 'min_samples_split': 2,\n",
              " 'n_estimators': 200}"
            ]
          },
          "metadata": {},
          "execution_count": 79
        }
      ],
      "source": [
        "from sklearn.model_selection import GridSearchCV\n",
        "\n",
        "# Define the parameter grid\n",
        "param_grid_cls = {\n",
        "    \"n_estimators\": [50, 100, 200],  # Number of trees in the forest\n",
        "    \"max_depth\": [10, 20, None],  # Maximum depth of each tree\n",
        "    \"min_samples_split\": [2, 5, 10],  # Minimum samples required to split a node\n",
        "    \"min_samples_leaf\": [1, 2, 4],  # Minimum samples required at a leaf node\n",
        "}\n",
        "\n",
        "# Initialize Random Forest Classifier\n",
        "rf_tuned_cls = RandomForestClassifier(random_state=42)\n",
        "\n",
        "# Perform GridSearchCV\n",
        "grid_search_cls = GridSearchCV(rf_tuned_cls, param_grid_cls, cv=5, scoring=\"accuracy\", n_jobs=-1, verbose=1)\n",
        "grid_search_cls.fit(X_train_cls_selected, y_train_cls)\n",
        "\n",
        "# Display the best hyperparameters\n",
        "grid_search_cls.best_params_\n"
      ]
    },
    {
      "cell_type": "markdown",
      "metadata": {
        "id": "VQ8lOtDuPIGd"
      },
      "source": [
        "*Retrain Random Forest Classifier with Best Parameters*"
      ]
    },
    {
      "cell_type": "code",
      "execution_count": 80,
      "metadata": {
        "id": "66V2fjZHN3m8",
        "colab": {
          "base_uri": "https://localhost:8080/",
          "height": 36
        },
        "outputId": "b82403cf-2dd9-4275-c62d-9d09f704226f"
      },
      "outputs": [
        {
          "output_type": "execute_result",
          "data": {
            "text/plain": [
              "'Optimized Random Forest Classifier trained successfully.'"
            ],
            "application/vnd.google.colaboratory.intrinsic+json": {
              "type": "string"
            }
          },
          "metadata": {},
          "execution_count": 80
        }
      ],
      "source": [
        "# Initialize Random Forest with best hyperparameters\n",
        "rf_best_cls = RandomForestClassifier(\n",
        "    max_depth=10,\n",
        "    min_samples_leaf=1,\n",
        "    min_samples_split=2,\n",
        "    n_estimators=200,\n",
        "    random_state=42\n",
        ")\n",
        "\n",
        "# Train the optimized model\n",
        "rf_best_cls.fit(X_train_cls_selected, y_train_cls)\n",
        "\n",
        "# Display completion message\n",
        "\"Optimized Random Forest Classifier trained successfully.\"\n"
      ]
    },
    {
      "cell_type": "markdown",
      "metadata": {
        "id": "vl7C1kjVPREK"
      },
      "source": [
        "*Evaluate Optimized Random Forest Classifier*"
      ]
    },
    {
      "cell_type": "code",
      "execution_count": 81,
      "metadata": {
        "id": "t-VwmhZHPKDh",
        "colab": {
          "base_uri": "https://localhost:8080/",
          "height": 36
        },
        "outputId": "77fd1607-f4c3-4bfe-cdec-299225f847b9"
      },
      "outputs": [
        {
          "output_type": "execute_result",
          "data": {
            "text/plain": [
              "'Optimized Random Forest - Accuracy: 0.7658'"
            ],
            "application/vnd.google.colaboratory.intrinsic+json": {
              "type": "string"
            }
          },
          "metadata": {},
          "execution_count": 81
        }
      ],
      "source": [
        "from sklearn.metrics import accuracy_score, classification_report, confusion_matrix\n",
        "\n",
        "# Make predictions with optimized model\n",
        "rf_best_predictions = rf_best_cls.predict(X_test_cls_selected)\n",
        "\n",
        "# Calculate accuracy\n",
        "rf_best_accuracy = accuracy_score(y_test_cls, rf_best_predictions)\n",
        "\n",
        "# Generate classification report\n",
        "rf_best_report = classification_report(y_test_cls, rf_best_predictions)\n",
        "\n",
        "# Generate confusion matrix\n",
        "rf_best_cm = confusion_matrix(y_test_cls, rf_best_predictions)\n",
        "\n",
        "# Display results\n",
        "f\"Optimized Random Forest - Accuracy: {rf_best_accuracy:.4f}\"\n"
      ]
    },
    {
      "cell_type": "markdown",
      "metadata": {
        "id": "MM-apLMQPb3C"
      },
      "source": [
        "*Detailed Classification Report & Confusion matrix*"
      ]
    },
    {
      "cell_type": "code",
      "execution_count": 82,
      "metadata": {
        "id": "4C3qyV6bPTUl",
        "colab": {
          "base_uri": "https://localhost:8080/"
        },
        "outputId": "628a41f8-ad3b-4f75-b42b-b65ef0518e29"
      },
      "outputs": [
        {
          "output_type": "stream",
          "name": "stdout",
          "text": [
            "Optimized Random Forest Classifier - Classification Report:\n",
            "              precision    recall  f1-score   support\n",
            "\n",
            "       False       0.56      0.18      0.27       324\n",
            "        True       0.78      0.96      0.86      1004\n",
            "\n",
            "    accuracy                           0.77      1328\n",
            "   macro avg       0.67      0.57      0.56      1328\n",
            "weighted avg       0.73      0.77      0.72      1328\n",
            "\n",
            "Optimized Random Forest Classifier - Confusion Matrix:\n",
            "[[ 57 267]\n",
            " [ 44 960]]\n"
          ]
        }
      ],
      "source": [
        "# Display classification report\n",
        "print(\"Optimized Random Forest Classifier - Classification Report:\")\n",
        "print(rf_best_report)\n",
        "\n",
        "# Display confusion matrix\n",
        "print(\"Optimized Random Forest Classifier - Confusion Matrix:\")\n",
        "print(rf_best_cm)\n"
      ]
    },
    {
      "cell_type": "markdown",
      "metadata": {
        "id": "2jRMJM4hPzqd"
      },
      "source": [
        "*Visualizing Before vs. After Tuning*"
      ]
    },
    {
      "cell_type": "code",
      "execution_count": 83,
      "metadata": {
        "id": "StPDQO_ePbRG",
        "colab": {
          "base_uri": "https://localhost:8080/",
          "height": 520
        },
        "outputId": "4f1b8e51-4950-49aa-d191-17b73a1ccc3a"
      },
      "outputs": [
        {
          "output_type": "display_data",
          "data": {
            "text/plain": [
              "<Figure size 800x500 with 1 Axes>"
            ],
            "image/png": "[encoded data removed]"
          },
          "metadata": {}
        }
      ],
      "source": [
        "import numpy as np\n",
        "import matplotlib.pyplot as plt\n",
        "\n",
        "# Create a bar chart to compare errors\n",
        "labels = [\"Accuracy\", \"Precision (Female)\", \"Recall (Female)\", \"F1-Score (Female)\", \"Precision (Male)\", \"Recall (Male)\", \"F1-Score (Male)\"]\n",
        "before_tuning = [0.7575, 0.50, 0.39, 0.44, 0.82, 0.88, 0.85]\n",
        "after_tuning = [0.7658, 0.56, 0.18, 0.27, 0.78, 0.96, 0.86]\n",
        "\n",
        "x = np.arange(len(labels))  # Label locations\n",
        "width = 0.35  # Bar width\n",
        "\n",
        "fig, ax = plt.subplots(figsize=(8, 5))\n",
        "rects1 = ax.bar(x - width/2, before_tuning, width, label=\"Before Tuning\", color=\"blue\")\n",
        "rects2 = ax.bar(x + width/2, after_tuning, width, label=\"After Tuning\", color=\"green\")\n",
        "\n",
        "ax.set_xlabel(\"Metrics\")\n",
        "ax.set_ylabel(\"Values\")\n",
        "ax.set_title(\"Performance Comparison: Before vs. After Tuning\")\n",
        "ax.set_xticks(x)\n",
        "ax.set_xticklabels(labels, rotation=15)\n",
        "ax.legend()\n",
        "\n",
        "plt.show()\n"
      ]
    },
    {
      "cell_type": "markdown",
      "metadata": {
        "id": "HwtTZLVnQPkp"
      },
      "source": [
        "*Retrain Random Forest with Class Weighting*"
      ]
    },
    {
      "cell_type": "code",
      "execution_count": 84,
      "metadata": {
        "id": "Gnv0gm0jP1XW",
        "colab": {
          "base_uri": "https://localhost:8080/",
          "height": 36
        },
        "outputId": "b1e689e9-d026-4606-ede9-58eb0bc69626"
      },
      "outputs": [
        {
          "output_type": "execute_result",
          "data": {
            "text/plain": [
              "'Random Forest Classifier trained with class balancing.'"
            ],
            "application/vnd.google.colaboratory.intrinsic+json": {
              "type": "string"
            }
          },
          "metadata": {},
          "execution_count": 84
        }
      ],
      "source": [
        "# Initialize Random Forest with class weighting\n",
        "rf_balanced_cls = RandomForestClassifier(\n",
        "    max_depth=10,\n",
        "    min_samples_leaf=1,\n",
        "    min_samples_split=2,\n",
        "    n_estimators=200,\n",
        "    class_weight=\"balanced\",  # Adjust for class imbalance\n",
        "    random_state=42\n",
        ")\n",
        "\n",
        "# Train the model with class balancing\n",
        "rf_balanced_cls.fit(X_train_cls_selected, y_train_cls)\n",
        "\n",
        "# Display completion message\n",
        "\"Random Forest Classifier trained with class balancing.\"\n"
      ]
    },
    {
      "cell_type": "markdown",
      "metadata": {
        "id": "J1ac1EqEQWGm"
      },
      "source": [
        "*Evaluate Random Forest Classifier with Class Balancing*"
      ]
    },
    {
      "cell_type": "code",
      "execution_count": 85,
      "metadata": {
        "id": "6VhI7NO8QM0m",
        "colab": {
          "base_uri": "https://localhost:8080/",
          "height": 36
        },
        "outputId": "38fcffc7-c453-4b91-c303-1eaf7ab8de86"
      },
      "outputs": [
        {
          "output_type": "execute_result",
          "data": {
            "text/plain": [
              "'Balanced Random Forest - Accuracy: 0.6815'"
            ],
            "application/vnd.google.colaboratory.intrinsic+json": {
              "type": "string"
            }
          },
          "metadata": {},
          "execution_count": 85
        }
      ],
      "source": [
        "# Make predictions with the balanced model\n",
        "rf_balanced_predictions = rf_balanced_cls.predict(X_test_cls_selected)\n",
        "\n",
        "# Calculate accuracy\n",
        "rf_balanced_accuracy = accuracy_score(y_test_cls, rf_balanced_predictions)\n",
        "\n",
        "# Generate classification report\n",
        "rf_balanced_report = classification_report(y_test_cls, rf_balanced_predictions)\n",
        "\n",
        "# Generate confusion matrix\n",
        "rf_balanced_cm = confusion_matrix(y_test_cls, rf_balanced_predictions)\n",
        "\n",
        "# Display results\n",
        "f\"Balanced Random Forest - Accuracy: {rf_balanced_accuracy:.4f}\"\n"
      ]
    },
    {
      "cell_type": "markdown",
      "metadata": {
        "id": "ljbeuOK2QocT"
      },
      "source": [
        "\n",
        "\n",
        "Since accuracy has dropped, we need to check precision, recall, and confusion matrix to determine if class balancing improved female classification.\n",
        "\n"
      ]
    },
    {
      "cell_type": "code",
      "execution_count": 86,
      "metadata": {
        "id": "mAxFErgRQYk7",
        "colab": {
          "base_uri": "https://localhost:8080/"
        },
        "outputId": "f590b612-b1e9-4e19-f5b6-a749b5d2ecaa"
      },
      "outputs": [
        {
          "output_type": "stream",
          "name": "stdout",
          "text": [
            "Balanced Random Forest Classifier - Classification Report:\n",
            "              precision    recall  f1-score   support\n",
            "\n",
            "       False       0.39      0.56      0.46       324\n",
            "        True       0.84      0.72      0.77      1004\n",
            "\n",
            "    accuracy                           0.68      1328\n",
            "   macro avg       0.62      0.64      0.62      1328\n",
            "weighted avg       0.73      0.68      0.70      1328\n",
            "\n",
            "Balanced Random Forest Classifier - Confusion Matrix:\n",
            "[[183 141]\n",
            " [282 722]]\n"
          ]
        }
      ],
      "source": [
        "# Display classification report\n",
        "print(\"Balanced Random Forest Classifier - Classification Report:\")\n",
        "print(rf_balanced_report)\n",
        "\n",
        "# Display confusion matrix\n",
        "print(\"Balanced Random Forest Classifier - Confusion Matrix:\")\n",
        "print(rf_balanced_cm)\n"
      ]
    },
    {
      "cell_type": "markdown",
      "metadata": {
        "id": "_c0-XiCXRDhG"
      },
      "source": [
        "*Handling Class Imbalance with SMOTE*"
      ]
    },
    {
      "cell_type": "code",
      "execution_count": 87,
      "metadata": {
        "id": "3RJnixF6QfFb",
        "colab": {
          "base_uri": "https://localhost:8080/"
        },
        "outputId": "d44d5fc7-e128-4b5f-9433-0d39ac60d168"
      },
      "outputs": [
        {
          "output_type": "stream",
          "name": "stdout",
          "text": [
            "SMOTE Random Forest - Accuracy: 0.6348\n",
            "\n",
            "SMOTE Random Forest - Classification Report:\n",
            "              precision    recall  f1-score   support\n",
            "\n",
            "       False       0.36      0.62      0.45       324\n",
            "        True       0.84      0.64      0.73      1004\n",
            "\n",
            "    accuracy                           0.63      1328\n",
            "   macro avg       0.60      0.63      0.59      1328\n",
            "weighted avg       0.72      0.63      0.66      1328\n",
            "\n",
            "\n",
            "SMOTE Random Forest - Confusion Matrix:\n",
            "[[202 122]\n",
            " [363 641]]\n"
          ]
        }
      ],
      "source": [
        "from imblearn.over_sampling import SMOTE\n",
        "from sklearn.ensemble import RandomForestClassifier\n",
        "from sklearn.metrics import accuracy_score, classification_report, confusion_matrix\n",
        "\n",
        "# Apply SMOTE to balance the training data\n",
        "smote = SMOTE(random_state=42)\n",
        "X_train_cls_smote, y_train_cls_smote = smote.fit_resample(X_train_cls_selected, y_train_cls)\n",
        "\n",
        "# Initialize Random Forest with best hyperparameters\n",
        "rf_smote_cls = RandomForestClassifier(\n",
        "    max_depth=10,\n",
        "    min_samples_leaf=1,\n",
        "    min_samples_split=2,\n",
        "    n_estimators=200,\n",
        "    random_state=42\n",
        ")\n",
        "\n",
        "# Train the model with SMOTE-applied data\n",
        "rf_smote_cls.fit(X_train_cls_smote, y_train_cls_smote)\n",
        "\n",
        "# Make predictions with SMOTE-trained model\n",
        "rf_smote_predictions = rf_smote_cls.predict(X_test_cls_selected)\n",
        "\n",
        "# Calculate accuracy\n",
        "rf_smote_accuracy = accuracy_score(y_test_cls, rf_smote_predictions)\n",
        "\n",
        "# Generate classification report\n",
        "rf_smote_report = classification_report(y_test_cls, rf_smote_predictions)\n",
        "\n",
        "# Generate confusion matrix\n",
        "rf_smote_cm = confusion_matrix(y_test_cls, rf_smote_predictions)\n",
        "\n",
        "# Display results\n",
        "print(f\"SMOTE Random Forest - Accuracy: {rf_smote_accuracy:.4f}\")\n",
        "print(\"\\nSMOTE Random Forest - Classification Report:\")\n",
        "print(rf_smote_report)\n",
        "\n",
        "print(\"\\nSMOTE Random Forest - Confusion Matrix:\")\n",
        "print(rf_smote_cm)\n"
      ]
    },
    {
      "cell_type": "markdown",
      "metadata": {
        "id": "6c1_aJ8LRjUy"
      },
      "source": [
        "**Final Decision: Save the Optimized Random Forest Classifier**"
      ]
    },
    {
      "cell_type": "code",
      "execution_count": 88,
      "metadata": {
        "id": "AqE5IuDnRFyY",
        "colab": {
          "base_uri": "https://localhost:8080/",
          "height": 36
        },
        "outputId": "807510e8-db99-4ae3-ea7c-645b68a288a4"
      },
      "outputs": [
        {
          "output_type": "execute_result",
          "data": {
            "text/plain": [
              "'Final Optimized Random Forest Classifier model saved successfully.'"
            ],
            "application/vnd.google.colaboratory.intrinsic+json": {
              "type": "string"
            }
          },
          "metadata": {},
          "execution_count": 88
        }
      ],
      "source": [
        "import joblib\n",
        "\n",
        "# Save the optimized Random Forest Classifier model\n",
        "joblib.dump(rf_best_cls, \"final_random_forest_offender_gender.pkl\")\n",
        "\n",
        "# Display completion message\n",
        "\"Final Optimized Random Forest Classifier model saved successfully.\"\n"
      ]
    }
  ],
  "metadata": {
    "colab": {
      "provenance": [],
      "include_colab_link": true
    },
    "kernelspec": {
      "display_name": "Python 3",
      "name": "python3"
    },
    "language_info": {
      "name": "python"
    }
  },
  "nbformat": 4,
  "nbformat_minor": 0
}